{
 "cells": [
  {
   "cell_type": "markdown",
   "metadata": {},
   "source": [
    "##  Customer Segmentation Analysis\n"
   ]
  },
  {
   "cell_type": "code",
   "execution_count": 1,
   "metadata": {},
   "outputs": [
    {
     "data": {
      "text/html": [
       "<div>\n",
       "<style scoped>\n",
       "    .dataframe tbody tr th:only-of-type {\n",
       "        vertical-align: middle;\n",
       "    }\n",
       "\n",
       "    .dataframe tbody tr th {\n",
       "        vertical-align: top;\n",
       "    }\n",
       "\n",
       "    .dataframe thead th {\n",
       "        text-align: right;\n",
       "    }\n",
       "</style>\n",
       "<table border=\"1\" class=\"dataframe\">\n",
       "  <thead>\n",
       "    <tr style=\"text-align: right;\">\n",
       "      <th></th>\n",
       "      <th>CustomerID</th>\n",
       "      <th>Gender</th>\n",
       "      <th>Age</th>\n",
       "      <th>Annual Income (k$)</th>\n",
       "      <th>Spending Score (1-100)</th>\n",
       "    </tr>\n",
       "  </thead>\n",
       "  <tbody>\n",
       "    <tr>\n",
       "      <th>0</th>\n",
       "      <td>1</td>\n",
       "      <td>Male</td>\n",
       "      <td>19</td>\n",
       "      <td>15</td>\n",
       "      <td>39</td>\n",
       "    </tr>\n",
       "    <tr>\n",
       "      <th>1</th>\n",
       "      <td>2</td>\n",
       "      <td>Male</td>\n",
       "      <td>21</td>\n",
       "      <td>15</td>\n",
       "      <td>81</td>\n",
       "    </tr>\n",
       "    <tr>\n",
       "      <th>2</th>\n",
       "      <td>3</td>\n",
       "      <td>Female</td>\n",
       "      <td>20</td>\n",
       "      <td>16</td>\n",
       "      <td>6</td>\n",
       "    </tr>\n",
       "    <tr>\n",
       "      <th>3</th>\n",
       "      <td>4</td>\n",
       "      <td>Female</td>\n",
       "      <td>23</td>\n",
       "      <td>16</td>\n",
       "      <td>77</td>\n",
       "    </tr>\n",
       "    <tr>\n",
       "      <th>4</th>\n",
       "      <td>5</td>\n",
       "      <td>Female</td>\n",
       "      <td>31</td>\n",
       "      <td>17</td>\n",
       "      <td>40</td>\n",
       "    </tr>\n",
       "  </tbody>\n",
       "</table>\n",
       "</div>"
      ],
      "text/plain": [
       "   CustomerID  Gender  Age  Annual Income (k$)  Spending Score (1-100)\n",
       "0           1    Male   19                  15                      39\n",
       "1           2    Male   21                  15                      81\n",
       "2           3  Female   20                  16                       6\n",
       "3           4  Female   23                  16                      77\n",
       "4           5  Female   31                  17                      40"
      ]
     },
     "execution_count": 1,
     "metadata": {},
     "output_type": "execute_result"
    }
   ],
   "source": [
    "import numpy as np\n",
    "import pandas as pd\n",
    "import matplotlib.pyplot as plt\n",
    "import seaborn as sns\n",
    "data = pd.read_csv(r\"C:\\Users\\ELCOT\\Downloads\\Dataset\\Mall_Customers.csv\")\n",
    "data.head()"
   ]
  },
  {
   "cell_type": "code",
   "execution_count": 3,
   "metadata": {},
   "outputs": [
    {
     "data": {
      "text/plain": [
       "(200, 5)"
      ]
     },
     "execution_count": 3,
     "metadata": {},
     "output_type": "execute_result"
    }
   ],
   "source": [
    "data.shape"
   ]
  },
  {
   "cell_type": "code",
   "execution_count": 4,
   "metadata": {},
   "outputs": [
    {
     "data": {
      "text/html": [
       "<div>\n",
       "<style scoped>\n",
       "    .dataframe tbody tr th:only-of-type {\n",
       "        vertical-align: middle;\n",
       "    }\n",
       "\n",
       "    .dataframe tbody tr th {\n",
       "        vertical-align: top;\n",
       "    }\n",
       "\n",
       "    .dataframe thead th {\n",
       "        text-align: right;\n",
       "    }\n",
       "</style>\n",
       "<table border=\"1\" class=\"dataframe\">\n",
       "  <thead>\n",
       "    <tr style=\"text-align: right;\">\n",
       "      <th></th>\n",
       "      <th>CustomerID</th>\n",
       "      <th>Age</th>\n",
       "      <th>Annual Income (k$)</th>\n",
       "      <th>Spending Score (1-100)</th>\n",
       "    </tr>\n",
       "  </thead>\n",
       "  <tbody>\n",
       "    <tr>\n",
       "      <th>count</th>\n",
       "      <td>200.000000</td>\n",
       "      <td>200.000000</td>\n",
       "      <td>200.000000</td>\n",
       "      <td>200.000000</td>\n",
       "    </tr>\n",
       "    <tr>\n",
       "      <th>mean</th>\n",
       "      <td>100.500000</td>\n",
       "      <td>38.850000</td>\n",
       "      <td>60.560000</td>\n",
       "      <td>50.200000</td>\n",
       "    </tr>\n",
       "    <tr>\n",
       "      <th>std</th>\n",
       "      <td>57.879185</td>\n",
       "      <td>13.969007</td>\n",
       "      <td>26.264721</td>\n",
       "      <td>25.823522</td>\n",
       "    </tr>\n",
       "    <tr>\n",
       "      <th>min</th>\n",
       "      <td>1.000000</td>\n",
       "      <td>18.000000</td>\n",
       "      <td>15.000000</td>\n",
       "      <td>1.000000</td>\n",
       "    </tr>\n",
       "    <tr>\n",
       "      <th>25%</th>\n",
       "      <td>50.750000</td>\n",
       "      <td>28.750000</td>\n",
       "      <td>41.500000</td>\n",
       "      <td>34.750000</td>\n",
       "    </tr>\n",
       "    <tr>\n",
       "      <th>50%</th>\n",
       "      <td>100.500000</td>\n",
       "      <td>36.000000</td>\n",
       "      <td>61.500000</td>\n",
       "      <td>50.000000</td>\n",
       "    </tr>\n",
       "    <tr>\n",
       "      <th>75%</th>\n",
       "      <td>150.250000</td>\n",
       "      <td>49.000000</td>\n",
       "      <td>78.000000</td>\n",
       "      <td>73.000000</td>\n",
       "    </tr>\n",
       "    <tr>\n",
       "      <th>max</th>\n",
       "      <td>200.000000</td>\n",
       "      <td>70.000000</td>\n",
       "      <td>137.000000</td>\n",
       "      <td>99.000000</td>\n",
       "    </tr>\n",
       "  </tbody>\n",
       "</table>\n",
       "</div>"
      ],
      "text/plain": [
       "       CustomerID         Age  Annual Income (k$)  Spending Score (1-100)\n",
       "count  200.000000  200.000000          200.000000              200.000000\n",
       "mean   100.500000   38.850000           60.560000               50.200000\n",
       "std     57.879185   13.969007           26.264721               25.823522\n",
       "min      1.000000   18.000000           15.000000                1.000000\n",
       "25%     50.750000   28.750000           41.500000               34.750000\n",
       "50%    100.500000   36.000000           61.500000               50.000000\n",
       "75%    150.250000   49.000000           78.000000               73.000000\n",
       "max    200.000000   70.000000          137.000000               99.000000"
      ]
     },
     "execution_count": 4,
     "metadata": {},
     "output_type": "execute_result"
    }
   ],
   "source": [
    "data.describe()"
   ]
  },
  {
   "cell_type": "code",
   "execution_count": 5,
   "metadata": {},
   "outputs": [
    {
     "data": {
      "text/plain": [
       "CustomerID                 int64\n",
       "Gender                    object\n",
       "Age                        int64\n",
       "Annual Income (k$)         int64\n",
       "Spending Score (1-100)     int64\n",
       "dtype: object"
      ]
     },
     "execution_count": 5,
     "metadata": {},
     "output_type": "execute_result"
    }
   ],
   "source": [
    "data.dtypes"
   ]
  },
  {
   "cell_type": "code",
   "execution_count": 6,
   "metadata": {},
   "outputs": [
    {
     "data": {
      "text/plain": [
       "CustomerID                0\n",
       "Gender                    0\n",
       "Age                       0\n",
       "Annual Income (k$)        0\n",
       "Spending Score (1-100)    0\n",
       "dtype: int64"
      ]
     },
     "execution_count": 6,
     "metadata": {},
     "output_type": "execute_result"
    }
   ],
   "source": [
    "data.isnull().sum()"
   ]
  },
  {
   "cell_type": "code",
   "execution_count": 7,
   "metadata": {},
   "outputs": [],
   "source": [
    "data.drop([\"CustomerID\"],axis=1, inplace=True)"
   ]
  },
  {
   "cell_type": "code",
   "execution_count": 8,
   "metadata": {},
   "outputs": [
    {
     "data": {
      "text/html": [
       "<div>\n",
       "<style scoped>\n",
       "    .dataframe tbody tr th:only-of-type {\n",
       "        vertical-align: middle;\n",
       "    }\n",
       "\n",
       "    .dataframe tbody tr th {\n",
       "        vertical-align: top;\n",
       "    }\n",
       "\n",
       "    .dataframe thead th {\n",
       "        text-align: right;\n",
       "    }\n",
       "</style>\n",
       "<table border=\"1\" class=\"dataframe\">\n",
       "  <thead>\n",
       "    <tr style=\"text-align: right;\">\n",
       "      <th></th>\n",
       "      <th>Gender</th>\n",
       "      <th>Age</th>\n",
       "      <th>Annual Income (k$)</th>\n",
       "      <th>Spending Score (1-100)</th>\n",
       "    </tr>\n",
       "  </thead>\n",
       "  <tbody>\n",
       "    <tr>\n",
       "      <th>0</th>\n",
       "      <td>Male</td>\n",
       "      <td>19</td>\n",
       "      <td>15</td>\n",
       "      <td>39</td>\n",
       "    </tr>\n",
       "    <tr>\n",
       "      <th>1</th>\n",
       "      <td>Male</td>\n",
       "      <td>21</td>\n",
       "      <td>15</td>\n",
       "      <td>81</td>\n",
       "    </tr>\n",
       "    <tr>\n",
       "      <th>2</th>\n",
       "      <td>Female</td>\n",
       "      <td>20</td>\n",
       "      <td>16</td>\n",
       "      <td>6</td>\n",
       "    </tr>\n",
       "    <tr>\n",
       "      <th>3</th>\n",
       "      <td>Female</td>\n",
       "      <td>23</td>\n",
       "      <td>16</td>\n",
       "      <td>77</td>\n",
       "    </tr>\n",
       "    <tr>\n",
       "      <th>4</th>\n",
       "      <td>Female</td>\n",
       "      <td>31</td>\n",
       "      <td>17</td>\n",
       "      <td>40</td>\n",
       "    </tr>\n",
       "  </tbody>\n",
       "</table>\n",
       "</div>"
      ],
      "text/plain": [
       "   Gender  Age  Annual Income (k$)  Spending Score (1-100)\n",
       "0    Male   19                  15                      39\n",
       "1    Male   21                  15                      81\n",
       "2  Female   20                  16                       6\n",
       "3  Female   23                  16                      77\n",
       "4  Female   31                  17                      40"
      ]
     },
     "execution_count": 8,
     "metadata": {},
     "output_type": "execute_result"
    }
   ],
   "source": [
    "data.head()"
   ]
  },
  {
   "cell_type": "code",
   "execution_count": 12,
   "metadata": {},
   "outputs": [
    {
     "name": "stderr",
     "output_type": "stream",
     "text": [
      "C:\\ProgramData\\Anaconda3\\lib\\site-packages\\matplotlib\\axes\\_axes.py:6462: UserWarning: The 'normed' kwarg is deprecated, and has been replaced by the 'density' kwarg.\n",
      "  warnings.warn(\"The 'normed' kwarg is deprecated, and has been \"\n",
      "C:\\ProgramData\\Anaconda3\\lib\\site-packages\\matplotlib\\axes\\_axes.py:6462: UserWarning: The 'normed' kwarg is deprecated, and has been replaced by the 'density' kwarg.\n",
      "  warnings.warn(\"The 'normed' kwarg is deprecated, and has been \"\n",
      "C:\\ProgramData\\Anaconda3\\lib\\site-packages\\matplotlib\\axes\\_axes.py:6462: UserWarning: The 'normed' kwarg is deprecated, and has been replaced by the 'density' kwarg.\n",
      "  warnings.warn(\"The 'normed' kwarg is deprecated, and has been \"\n"
     ]
    },
    {
     "data": {
      "image/png": "[encoded data removed]",
      "text/plain": [
       "<Figure size 1080x432 with 3 Axes>"
      ]
     },
     "metadata": {},
     "output_type": "display_data"
    }
   ],
   "source": [
    "plt.figure(1, figsize=(15,6))\n",
    "n=0\n",
    "for x in ['Age' , 'Annual Income (k$)' , 'Spending Score (1-100)']:\n",
    "    n += 1\n",
    "    plt.subplot(1 , 3 , n)\n",
    "    plt.subplots_adjust(hspace =0.5 , wspace = 0.5)\n",
    "    sns.distplot(data[x] , bins = 20)\n",
    "    plt.title('Distplot of {}'.format(x))\n",
    "plt.show()    "
   ]
  },
  {
   "cell_type": "code",
   "execution_count": 18,
   "metadata": {},
   "outputs": [
    {
     "data": {
      "image/png": "[encoded data removed]",
      "text/plain": [
       "<Figure size 1080x360 with 1 Axes>"
      ]
     },
     "metadata": {},
     "output_type": "display_data"
    }
   ],
   "source": [
    "plt.figure(figsize=(15,5))\n",
    "sns.countplot(y='Gender',data=data)\n",
    "plt.show()"
   ]
  },
  {
   "cell_type": "code",
   "execution_count": 17,
   "metadata": {},
   "outputs": [
    {
     "data": {
      "image/png": "[encoded data removed]",
      "text/plain": [
       "<Figure size 1080x504 with 3 Axes>"
      ]
     },
     "metadata": {},
     "output_type": "display_data"
    }
   ],
   "source": [
    "plt.figure(1,figsize=(15,7))\n",
    "n=0\n",
    "for cols in ['Age' , 'Annual Income (k$)' , 'Spending Score (1-100)']:\n",
    "    n += 1\n",
    "    plt.subplot(1 , 3 , n)\n",
    "    sns.set(style=\"whitegrid\")\n",
    "    plt.subplots_adjust(hspace = 0.5 , wspace = 0.5)\n",
    "    sns.violinplot(x = cols , y = 'Gender' , data=data)\n",
    "    plt.ylabel('Gender' if n==1 else '')\n",
    "    plt.title('Violin Plot' )\n",
    "plt.show()    "
   ]
  },
  {
   "cell_type": "code",
   "execution_count": 22,
   "metadata": {},
   "outputs": [
    {
     "data": {
      "image/png": "[encoded data removed]",
      "text/plain": [
       "<Figure size 1080x432 with 1 Axes>"
      ]
     },
     "metadata": {},
     "output_type": "display_data"
    }
   ],
   "source": [
    "age_18_25 = data.Age[(data.Age >=18) & (data.Age <=25)]\n",
    "age_26_35 = data.Age[(data.Age >=26) & (data.Age <=35)]\n",
    "age_36_45 = data.Age[(data.Age >=36) & (data.Age <=45)]\n",
    "age_46_55 = data.Age[(data.Age >=46) & (data.Age <=55)]\n",
    "age_55above = data.Age[data.Age >=56]\n",
    "\n",
    "agex = [\"18-25\",\"26-35\",\"36-45\",\"46-55\",\"55+\"]\n",
    "agey = [len(age_18_25.values),len(age_26_35.values),len(age_36_45.values),len(age_46_55.values),len(age_55above.values)]\n",
    "\n",
    "plt.figure(figsize=(15,6))\n",
    "sns.barplot(x=agex, y=agey, palette=\"mako\")\n",
    "plt.title(\"Number of Customer and Ages\")\n",
    "plt.xlabel(\"Age\")\n",
    "plt.ylabel(\"Number of Customer\")\n",
    "plt.show()"
   ]
  },
  {
   "cell_type": "code",
   "execution_count": 24,
   "metadata": {},
   "outputs": [
    {
     "data": {
      "text/plain": [
       "<matplotlib.axes._subplots.AxesSubplot at 0x18ce059a898>"
      ]
     },
     "execution_count": 24,
     "metadata": {},
     "output_type": "execute_result"
    },
    {
     "data": {
      "image/png": "[encoded data removed]",
      "text/plain": [
       "<Figure size 432x288 with 1 Axes>"
      ]
     },
     "metadata": {},
     "output_type": "display_data"
    }
   ],
   "source": [
    "sns.regplot(x=\"Annual Income (k$)\", y=\"Spending Score (1-100)\", data=data)"
   ]
  },
  {
   "cell_type": "code",
   "execution_count": 25,
   "metadata": {},
   "outputs": [
    {
     "data": {
      "image/png": "[encoded data removed]",
      "text/plain": [
       "<Figure size 1080x432 with 1 Axes>"
      ]
     },
     "metadata": {},
     "output_type": "display_data"
    }
   ],
   "source": [
    "ss_1_20 = data[\"Spending Score (1-100)\"][(data[\"Spending Score (1-100)\"] >= 1) & (data[\"Spending Score (1-100)\"] <= 20)]\n",
    "ss_21_40 = data[\"Spending Score (1-100)\"][(data[\"Spending Score (1-100)\"] >= 21) & (data[\"Spending Score (1-100)\"] <= 40)]\n",
    "ss_41_60 = data[\"Spending Score (1-100)\"][(data[\"Spending Score (1-100)\"] >= 41) & (data[\"Spending Score (1-100)\"] <= 60)]\n",
    "ss_61_80 = data[\"Spending Score (1-100)\"][(data[\"Spending Score (1-100)\"] >= 61) & (data[\"Spending Score (1-100)\"] <= 80)]\n",
    "ss_81_100 = data[\"Spending Score (1-100)\"][(data[\"Spending Score (1-100)\"] >= 81) & (data[\"Spending Score (1-100)\"] <= 100)]\n",
    "\n",
    "ssx = [\"1-20\", \"21-40\", \"41-60\", \"61-80\", \"81-100\"]\n",
    "ssy = [len(ss_1_20.values), len(ss_21_40.values), len(ss_41_60.values), len(ss_61_80.values), len(ss_81_100.values)]\n",
    "\n",
    "plt.figure(figsize=(15,6))\n",
    "sns.barplot(x=ssx, y=ssy, palette=\"rocket\")\n",
    "plt.title(\"Spending Scores\")\n",
    "plt.xlabel(\"Score\")\n",
    "plt.ylabel(\"Number of Customer Having the Score\")\n",
    "plt.show()"
   ]
  },
  {
   "cell_type": "code",
   "execution_count": 26,
   "metadata": {},
   "outputs": [
    {
     "data": {
      "image/png": "[encoded data removed]",
      "text/plain": [
       "<Figure size 1080x432 with 1 Axes>"
      ]
     },
     "metadata": {},
     "output_type": "display_data"
    }
   ],
   "source": [
    "ai0_30 = data[\"Annual Income (k$)\"][(data[\"Annual Income (k$)\"] >= 0) & (data[\"Annual Income (k$)\"] <= 30)]\n",
    "ai31_60 = data[\"Annual Income (k$)\"][(data[\"Annual Income (k$)\"] >= 31) & (data[\"Annual Income (k$)\"] <= 60)]\n",
    "ai61_90 = data[\"Annual Income (k$)\"][(data[\"Annual Income (k$)\"] >= 61) & (data[\"Annual Income (k$)\"] <= 90)]\n",
    "ai91_120 = data[\"Annual Income (k$)\"][(data[\"Annual Income (k$)\"] >= 91) & (data[\"Annual Income (k$)\"] <= 120)]\n",
    "ai121_150 = data[\"Annual Income (k$)\"][(data[\"Annual Income (k$)\"] >= 121) & (data[\"Annual Income (k$)\"] <= 150)]\n",
    "\n",
    "aix = [\"$ 0-30,000\", \"$ 30,001-60,000\", \"$ 60.001-90,000\", \"$ 90,001-120,000\", \"$ 120,001-150,000\"]\n",
    "aiy = [len(ai0_30.values), len(ai31_60.values), len(ai61_90.values), len(ai91_120.values), len(ai121_150.values)]\n",
    "\n",
    "plt.figure(figsize=(15,6))\n",
    "sns.barplot(x=aix, y=aiy, palette=\"Spectral\")\n",
    "plt.title(\"Annual Incomes\")\n",
    "plt.xlabel(\"Incomes\")\n",
    "plt.ylabel(\"Number of Customer \")\n",
    "plt.show()"
   ]
  },
  {
   "cell_type": "code",
   "execution_count": 40,
   "metadata": {},
   "outputs": [
    {
     "data": {
      "image/png": "[encoded data removed]",
      "text/plain": [
       "<Figure size 864x432 with 1 Axes>"
      ]
     },
     "metadata": {},
     "output_type": "display_data"
    }
   ],
   "source": [
    "X1=data.loc[:, [\"Age\", \"Spending Score (1-100)\"]].values\n",
    "\n",
    "from sklearn.cluster import KMeans\n",
    "wcss = []\n",
    "for k in range(1,11):\n",
    "    kmeans =KMeans(n_clusters=k, init=\"k-means++\")\n",
    "    kmeans.fit(X1)\n",
    "    wcss.append(kmeans.inertia_)\n",
    "plt.figure(figsize=(12,6))\n",
    "plt.grid()\n",
    "plt.plot(range(1,11),wcss,linewidth=2,color=\"red\",marker=\"8\")\n",
    "plt.xlabel(\"k value\")\n",
    "plt.ylabel(\"wcss\")\n",
    "plt.show()"
   ]
  },
  {
   "cell_type": "code",
   "execution_count": 43,
   "metadata": {},
   "outputs": [
    {
     "name": "stdout",
     "output_type": "stream",
     "text": [
      "[3 0 1 0 3 0 1 0 1 0 1 0 1 0 1 0 3 3 1 0 3 0 1 0 1 0 1 3 1 0 1 0 1 0 1 0 1\n",
      " 0 1 0 2 0 2 3 1 3 2 3 3 3 2 3 3 2 2 2 2 2 3 2 2 3 2 2 2 3 2 2 3 3 2 2 2 2\n",
      " 2 3 2 3 3 2 2 3 2 2 3 2 2 3 3 2 2 3 2 3 3 3 2 3 2 3 3 2 2 3 2 3 2 2 2 2 2\n",
      " 3 3 3 3 3 2 2 2 2 3 3 3 0 3 0 2 0 1 0 1 0 3 0 1 0 1 0 1 0 1 0 3 0 1 0 2 0\n",
      " 1 0 1 0 1 0 1 0 1 0 1 0 2 0 1 0 1 0 1 0 1 3 1 0 1 0 1 0 1 0 1 0 1 0 1 0 3\n",
      " 0 1 0 1 0 1 0 1 0 1 0 1 0 1 0]\n"
     ]
    }
   ],
   "source": [
    "kmeans = KMeans(n_clusters=4)\n",
    "\n",
    "label = kmeans.fit_predict(X1)\n",
    "\n",
    "print(label)"
   ]
  },
  {
   "cell_type": "code",
   "execution_count": 44,
   "metadata": {},
   "outputs": [
    {
     "name": "stdout",
     "output_type": "stream",
     "text": [
      "[[30.1754386  82.35087719]\n",
      " [43.29166667 15.02083333]\n",
      " [55.70833333 48.22916667]\n",
      " [27.61702128 49.14893617]]\n"
     ]
    }
   ],
   "source": [
    "print(kmeans.cluster_centers_)"
   ]
  },
  {
   "cell_type": "code",
   "execution_count": 49,
   "metadata": {},
   "outputs": [
    {
     "data": {
      "image/png": "[encoded data removed]",
      "text/plain": [
       "<Figure size 432x288 with 1 Axes>"
      ]
     },
     "metadata": {},
     "output_type": "display_data"
    }
   ],
   "source": [
    "plt.scatter(X1[:,0],X1[:,1],c=kmeans.labels_,cmap='rainbow')\n",
    "plt.scatter(kmeans.cluster_centers_[:,0],kmeans.cluster_centers_[:,1],color='black')\n",
    "plt.title('Cluster of Customers')\n",
    "plt.xlabel('Age')\n",
    "plt.ylabel('Spending Score(1-100)')\n",
    "plt.show()"
   ]
  },
  {
   "cell_type": "code",
   "execution_count": 55,
   "metadata": {},
   "outputs": [
    {
     "data": {
      "image/png": "[encoded data removed]",
      "text/plain": [
       "<Figure size 864x432 with 1 Axes>"
      ]
     },
     "metadata": {},
     "output_type": "display_data"
    }
   ],
   "source": [
    "X2=data.loc[:,[\"Annual Income (k$)\",\"Spending Score (1-100)\"]].values\n",
    "from sklearn.cluster import KMeans\n",
    "wcss=[]\n",
    "for k in range(1,11):\n",
    "    kmeans=KMeans(n_clusters=k, init=\"k-means++\")\n",
    "    kmeans.fit(X2)\n",
    "    wcss.append(kmeans.inertia_)\n",
    "plt.figure(figsize=(12,6))\n",
    "plt.grid()\n",
    "plt.plot(range(1,11),wcss, linewidth=2, color=\"red\", marker =\"8\")\n",
    "plt.xlabel(\"K Value\")\n",
    "plt.ylabel(\"WCSS\")\n",
    "plt.show()"
   ]
  },
  {
   "cell_type": "code",
   "execution_count": 58,
   "metadata": {},
   "outputs": [
    {
     "name": "stdout",
     "output_type": "stream",
     "text": [
      "[3 2 3 2 3 2 3 2 3 2 3 2 3 2 3 2 3 2 3 2 3 2 3 2 3 2 3 2 3 2 3 2 3 2 3 2 3\n",
      " 2 3 2 3 2 3 1 3 2 1 1 1 1 1 1 1 1 1 1 1 1 1 1 1 1 1 1 1 1 1 1 1 1 1 1 1 1\n",
      " 1 1 1 1 1 1 1 1 1 1 1 1 1 1 1 1 1 1 1 1 1 1 1 1 1 1 1 1 1 1 1 1 1 1 1 1 1\n",
      " 1 1 1 1 1 1 1 1 1 1 1 1 4 0 4 1 4 0 4 0 4 1 4 0 4 0 4 0 4 0 4 1 4 0 4 0 4\n",
      " 0 4 0 4 0 4 0 4 0 4 0 4 0 4 0 4 0 4 0 4 0 4 0 4 0 4 0 4 0 4 0 4 0 4 0 4 0\n",
      " 4 0 4 0 4 0 4 0 4 0 4 0 4 0 4]\n"
     ]
    }
   ],
   "source": [
    "kmeans = KMeans(n_clusters=5)\n",
    "\n",
    "label = kmeans.fit_predict(X2)\n",
    "\n",
    "print(label)"
   ]
  },
  {
   "cell_type": "code",
   "execution_count": 59,
   "metadata": {},
   "outputs": [
    {
     "name": "stdout",
     "output_type": "stream",
     "text": [
      "[[88.2        17.11428571]\n",
      " [55.2962963  49.51851852]\n",
      " [25.72727273 79.36363636]\n",
      " [26.30434783 20.91304348]\n",
      " [86.53846154 82.12820513]]\n"
     ]
    }
   ],
   "source": [
    "print(kmeans.cluster_centers_)"
   ]
  },
  {
   "cell_type": "code",
   "execution_count": 60,
   "metadata": {},
   "outputs": [
    {
     "data": {
      "image/png": "[encoded data removed]",
      "text/plain": [
       "<Figure size 432x288 with 1 Axes>"
      ]
     },
     "metadata": {},
     "output_type": "display_data"
    }
   ],
   "source": [
    "plt.scatter(X2[:,0],X1[:,1],c=kmeans.labels_,cmap='rainbow')\n",
    "plt.scatter(kmeans.cluster_centers_[:,0],kmeans.cluster_centers_[:,1],color='black')\n",
    "plt.title('Cluster of Customers')\n",
    "plt.xlabel('Annual Income (k$)')\n",
    "plt.ylabel('Spending Score(1-100)')\n",
    "plt.show()"
   ]
  },
  {
   "cell_type": "code",
   "execution_count": 61,
   "metadata": {},
   "outputs": [
    {
     "data": {
      "image/png": "[encoded data removed]",
      "text/plain": [
       "<Figure size 864x432 with 1 Axes>"
      ]
     },
     "metadata": {},
     "output_type": "display_data"
    }
   ],
   "source": [
    "X3 = data.iloc[:,1:]\n",
    "\n",
    "wcss=[]\n",
    "for k in range(1,11):\n",
    "    kmeans=KMeans(n_clusters=k, init=\"k-means++\")\n",
    "    kmeans.fit(X3)\n",
    "    wcss.append(kmeans.inertia_)\n",
    "plt.figure(figsize=(12,6))\n",
    "plt.grid()\n",
    "plt.plot(range(1,11),wcss, linewidth=2, color=\"red\", marker =\"8\")\n",
    "plt.xlabel(\"K Value\")\n",
    "plt.ylabel(\"WCSS\")\n",
    "plt.show()"
   ]
  },
  {
   "cell_type": "code",
   "execution_count": 62,
   "metadata": {},
   "outputs": [
    {
     "name": "stdout",
     "output_type": "stream",
     "text": [
      "[3 1 3 1 3 1 3 1 3 1 3 1 3 1 3 1 3 1 3 1 3 1 3 1 3 1 3 1 3 1 3 1 3 1 3 1 3\n",
      " 1 3 1 3 1 3 2 3 1 2 2 2 2 2 2 2 2 2 2 2 2 2 2 2 2 2 2 2 2 2 2 2 2 2 2 2 2\n",
      " 2 2 2 2 2 2 2 2 2 2 2 2 2 2 2 2 2 2 2 2 2 2 2 2 2 2 2 2 2 2 2 2 2 2 2 2 2\n",
      " 2 2 2 2 2 2 2 2 2 2 2 2 0 4 0 2 0 4 0 4 0 4 0 4 0 4 0 4 0 4 0 2 0 4 0 4 0\n",
      " 4 0 4 0 4 0 4 0 4 0 4 0 4 0 4 0 4 0 4 0 4 0 4 0 4 0 4 0 4 0 4 0 4 0 4 0 4\n",
      " 0 4 0 4 0 4 0 4 0 4 0 4 0 4 0]\n"
     ]
    }
   ],
   "source": [
    "kmeans = KMeans(n_clusters=5)\n",
    "\n",
    "label = kmeans.fit_predict(X3)\n",
    "\n",
    "print(label)"
   ]
  },
  {
   "cell_type": "code",
   "execution_count": 63,
   "metadata": {},
   "outputs": [
    {
     "name": "stdout",
     "output_type": "stream",
     "text": [
      "[[32.69230769 86.53846154 82.12820513]\n",
      " [25.27272727 25.72727273 79.36363636]\n",
      " [42.9375     55.0875     49.7125    ]\n",
      " [45.2173913  26.30434783 20.91304348]\n",
      " [40.66666667 87.75       17.58333333]]\n"
     ]
    }
   ],
   "source": [
    "print(kmeans.cluster_centers_)"
   ]
  },
  {
   "cell_type": "code",
   "execution_count": 64,
   "metadata": {},
   "outputs": [
    {
     "data": {
      "image/png": "[encoded data removed]",
      "text/plain": [
       "<Figure size 1440x720 with 1 Axes>"
      ]
     },
     "metadata": {},
     "output_type": "display_data"
    }
   ],
   "source": [
    "clusters = kmeans.fit_predict(X3)\n",
    "data[\"label\"] = clusters\n",
    "\n",
    "from mpl_toolkits.mplot3d import Axes3D\n",
    "\n",
    "fig = plt.figure(figsize=(20,10))\n",
    "ax = fig.add_subplot(111, projection='3d')\n",
    "ax.scatter(data.Age[data.label ==0],data[\"Annual Income (k$)\"][data.label == 0], data[\"Spending Score (1-100)\"][data.label == 0],c='blue', s=60)\n",
    "ax.scatter(data.Age[data.label ==1],data[\"Annual Income (k$)\"][data.label == 1], data[\"Spending Score (1-100)\"][data.label == 1],c='red', s=60)\n",
    "ax.scatter(data.Age[data.label ==2],data[\"Annual Income (k$)\"][data.label == 2], data[\"Spending Score (1-100)\"][data.label == 2],c='green', s=60)\n",
    "ax.scatter(data.Age[data.label ==3],data[\"Annual Income (k$)\"][data.label == 3], data[\"Spending Score (1-100)\"][data.label == 3],c='orange', s=60)\n",
    "ax.scatter(data.Age[data.label ==4],data[\"Annual Income (k$)\"][data.label == 4], data[\"Spending Score (1-100)\"][data.label == 4],c='purple', s=60)\n",
    "ax.view_init(30,185)\n",
    "\n",
    "plt.xlabel(\"Age\")\n",
    "plt.ylabel(\"Annual Income (k$)\")\n",
    "ax.set_zlabel('Spending Score (1-100)')\n",
    "\n",
    "plt.show()"
   ]
  },
  {
   "cell_type": "code",
   "execution_count": 2,
   "metadata": {},
   "outputs": [
    {
     "name": "stdout",
     "output_type": "stream",
     "text": [
      "<class 'pandas.core.frame.DataFrame'>\n",
      "RangeIndex: 200 entries, 0 to 199\n",
      "Data columns (total 5 columns):\n",
      "CustomerID                200 non-null int64\n",
      "Gender                    200 non-null object\n",
      "Age                       200 non-null int64\n",
      "Annual Income (k$)        200 non-null int64\n",
      "Spending Score (1-100)    200 non-null int64\n",
      "dtypes: int64(4), object(1)\n",
      "memory usage: 7.9+ KB\n"
     ]
    }
   ],
   "source": [
    "data.info()"
   ]
  },
  {
   "cell_type": "markdown",
   "metadata": {},
   "source": [
    "## 1. Download the dataset:Dataset"
   ]
  },
  {
   "cell_type": "markdown",
   "metadata": {},
   "source": [
    "      ##  I have downloaded the Dataset"
   ]
  },
  {
   "cell_type": "markdown",
   "metadata": {},
   "source": [
    "## 2. Load the dataset into the tool. "
   ]
  },
  {
   "cell_type": "code",
   "execution_count": 5,
   "metadata": {},
   "outputs": [],
   "source": [
    "import numpy as np\n",
    "import pandas as pd\n",
    "import seaborn as sns\n",
    "import matplotlib.pyplot as plt\n",
    "import sklearn\n",
    "data = pd.read_csv(r\"C:\\Users\\ELCOT\\Downloads\\Dataset\\Mall_Customers.csv\")"
   ]
  },
  {
   "cell_type": "code",
   "execution_count": 6,
   "metadata": {},
   "outputs": [
    {
     "data": {
      "text/html": [
       "<div>\n",
       "<style scoped>\n",
       "    .dataframe tbody tr th:only-of-type {\n",
       "        vertical-align: middle;\n",
       "    }\n",
       "\n",
       "    .dataframe tbody tr th {\n",
       "        vertical-align: top;\n",
       "    }\n",
       "\n",
       "    .dataframe thead th {\n",
       "        text-align: right;\n",
       "    }\n",
       "</style>\n",
       "<table border=\"1\" class=\"dataframe\">\n",
       "  <thead>\n",
       "    <tr style=\"text-align: right;\">\n",
       "      <th></th>\n",
       "      <th>CustomerID</th>\n",
       "      <th>Gender</th>\n",
       "      <th>Age</th>\n",
       "      <th>Annual Income (k$)</th>\n",
       "      <th>Spending Score (1-100)</th>\n",
       "    </tr>\n",
       "  </thead>\n",
       "  <tbody>\n",
       "    <tr>\n",
       "      <th>0</th>\n",
       "      <td>1</td>\n",
       "      <td>Male</td>\n",
       "      <td>19</td>\n",
       "      <td>15</td>\n",
       "      <td>39</td>\n",
       "    </tr>\n",
       "    <tr>\n",
       "      <th>1</th>\n",
       "      <td>2</td>\n",
       "      <td>Male</td>\n",
       "      <td>21</td>\n",
       "      <td>15</td>\n",
       "      <td>81</td>\n",
       "    </tr>\n",
       "    <tr>\n",
       "      <th>2</th>\n",
       "      <td>3</td>\n",
       "      <td>Female</td>\n",
       "      <td>20</td>\n",
       "      <td>16</td>\n",
       "      <td>6</td>\n",
       "    </tr>\n",
       "    <tr>\n",
       "      <th>3</th>\n",
       "      <td>4</td>\n",
       "      <td>Female</td>\n",
       "      <td>23</td>\n",
       "      <td>16</td>\n",
       "      <td>77</td>\n",
       "    </tr>\n",
       "    <tr>\n",
       "      <th>4</th>\n",
       "      <td>5</td>\n",
       "      <td>Female</td>\n",
       "      <td>31</td>\n",
       "      <td>17</td>\n",
       "      <td>40</td>\n",
       "    </tr>\n",
       "  </tbody>\n",
       "</table>\n",
       "</div>"
      ],
      "text/plain": [
       "   CustomerID  Gender  Age  Annual Income (k$)  Spending Score (1-100)\n",
       "0           1    Male   19                  15                      39\n",
       "1           2    Male   21                  15                      81\n",
       "2           3  Female   20                  16                       6\n",
       "3           4  Female   23                  16                      77\n",
       "4           5  Female   31                  17                      40"
      ]
     },
     "execution_count": 6,
     "metadata": {},
     "output_type": "execute_result"
    }
   ],
   "source": [
    "data.head()"
   ]
  },
  {
   "cell_type": "code",
   "execution_count": 7,
   "metadata": {},
   "outputs": [
    {
     "data": {
      "text/html": [
       "<div>\n",
       "<style scoped>\n",
       "    .dataframe tbody tr th:only-of-type {\n",
       "        vertical-align: middle;\n",
       "    }\n",
       "\n",
       "    .dataframe tbody tr th {\n",
       "        vertical-align: top;\n",
       "    }\n",
       "\n",
       "    .dataframe thead th {\n",
       "        text-align: right;\n",
       "    }\n",
       "</style>\n",
       "<table border=\"1\" class=\"dataframe\">\n",
       "  <thead>\n",
       "    <tr style=\"text-align: right;\">\n",
       "      <th></th>\n",
       "      <th>CustomerID</th>\n",
       "      <th>Gender</th>\n",
       "      <th>Age</th>\n",
       "      <th>Annual Income (k$)</th>\n",
       "      <th>Spending Score (1-100)</th>\n",
       "    </tr>\n",
       "  </thead>\n",
       "  <tbody>\n",
       "    <tr>\n",
       "      <th>195</th>\n",
       "      <td>196</td>\n",
       "      <td>Female</td>\n",
       "      <td>35</td>\n",
       "      <td>120</td>\n",
       "      <td>79</td>\n",
       "    </tr>\n",
       "    <tr>\n",
       "      <th>196</th>\n",
       "      <td>197</td>\n",
       "      <td>Female</td>\n",
       "      <td>45</td>\n",
       "      <td>126</td>\n",
       "      <td>28</td>\n",
       "    </tr>\n",
       "    <tr>\n",
       "      <th>197</th>\n",
       "      <td>198</td>\n",
       "      <td>Male</td>\n",
       "      <td>32</td>\n",
       "      <td>126</td>\n",
       "      <td>74</td>\n",
       "    </tr>\n",
       "    <tr>\n",
       "      <th>198</th>\n",
       "      <td>199</td>\n",
       "      <td>Male</td>\n",
       "      <td>32</td>\n",
       "      <td>137</td>\n",
       "      <td>18</td>\n",
       "    </tr>\n",
       "    <tr>\n",
       "      <th>199</th>\n",
       "      <td>200</td>\n",
       "      <td>Male</td>\n",
       "      <td>30</td>\n",
       "      <td>137</td>\n",
       "      <td>83</td>\n",
       "    </tr>\n",
       "  </tbody>\n",
       "</table>\n",
       "</div>"
      ],
      "text/plain": [
       "     CustomerID  Gender  Age  Annual Income (k$)  Spending Score (1-100)\n",
       "195         196  Female   35                 120                      79\n",
       "196         197  Female   45                 126                      28\n",
       "197         198    Male   32                 126                      74\n",
       "198         199    Male   32                 137                      18\n",
       "199         200    Male   30                 137                      83"
      ]
     },
     "execution_count": 7,
     "metadata": {},
     "output_type": "execute_result"
    }
   ],
   "source": [
    "data.tail()"
   ]
  },
  {
   "cell_type": "markdown",
   "metadata": {},
   "source": [
    "## 3. Perform Below Visualizations. "
   ]
  },
  {
   "cell_type": "markdown",
   "metadata": {},
   "source": [
    "## (i)Univariate Analysis "
   ]
  },
  {
   "cell_type": "code",
   "execution_count": 8,
   "metadata": {},
   "outputs": [
    {
     "name": "stderr",
     "output_type": "stream",
     "text": [
      "C:\\ProgramData\\Anaconda3\\lib\\site-packages\\matplotlib\\axes\\_axes.py:6462: UserWarning: The 'normed' kwarg is deprecated, and has been replaced by the 'density' kwarg.\n",
      "  warnings.warn(\"The 'normed' kwarg is deprecated, and has been \"\n"
     ]
    },
    {
     "data": {
      "text/plain": [
       "<matplotlib.axes._subplots.AxesSubplot at 0x26c28f25a20>"
      ]
     },
     "execution_count": 8,
     "metadata": {},
     "output_type": "execute_result"
    },
    {
     "data": {
      "image/png": "[encoded data removed]",
      "text/plain": [
       "<Figure size 432x288 with 1 Axes>"
      ]
     },
     "metadata": {},
     "output_type": "display_data"
    }
   ],
   "source": [
    "sns.distplot(data['Age'])"
   ]
  },
  {
   "cell_type": "code",
   "execution_count": 9,
   "metadata": {},
   "outputs": [
    {
     "data": {
      "text/plain": [
       "<matplotlib.axes._subplots.AxesSubplot at 0x26c291d6630>"
      ]
     },
     "execution_count": 9,
     "metadata": {},
     "output_type": "execute_result"
    },
    {
     "data": {
      "image/png": "[encoded data removed]",
      "text/plain": [
       "<Figure size 432x288 with 1 Axes>"
      ]
     },
     "metadata": {},
     "output_type": "display_data"
    }
   ],
   "source": [
    "sns.boxplot(data['Age'])"
   ]
  },
  {
   "cell_type": "markdown",
   "metadata": {},
   "source": [
    "## (ii)Bi- Variate Analysis"
   ]
  },
  {
   "cell_type": "code",
   "execution_count": 10,
   "metadata": {},
   "outputs": [
    {
     "data": {
      "text/plain": [
       "<matplotlib.axes._subplots.AxesSubplot at 0x26c2a55a320>"
      ]
     },
     "execution_count": 10,
     "metadata": {},
     "output_type": "execute_result"
    },
    {
     "data": {
      "image/png": "[encoded data removed]",
      "text/plain": [
       "<Figure size 432x288 with 1 Axes>"
      ]
     },
     "metadata": {},
     "output_type": "display_data"
    }
   ],
   "source": [
    "sns.boxplot(data['Age'], data['Annual Income (k$)'])"
   ]
  },
  {
   "cell_type": "code",
   "execution_count": 11,
   "metadata": {},
   "outputs": [
    {
     "data": {
      "text/plain": [
       "<matplotlib.axes._subplots.AxesSubplot at 0x26c2a9d6390>"
      ]
     },
     "execution_count": 11,
     "metadata": {},
     "output_type": "execute_result"
    },
    {
     "data": {
      "image/png": "[encoded data removed]",
      "text/plain": [
       "<Figure size 432x288 with 1 Axes>"
      ]
     },
     "metadata": {},
     "output_type": "display_data"
    }
   ],
   "source": [
    "sns.barplot(data['Age'], data['Annual Income (k$)'])"
   ]
  },
  {
   "cell_type": "code",
   "execution_count": 12,
   "metadata": {},
   "outputs": [
    {
     "data": {
      "text/plain": [
       "<matplotlib.axes._subplots.AxesSubplot at 0x26c2aa0c518>"
      ]
     },
     "execution_count": 12,
     "metadata": {},
     "output_type": "execute_result"
    },
    {
     "data": {
      "image/png": "[encoded data removed]",
      "text/plain": [
       "<Figure size 720x720 with 1 Axes>"
      ]
     },
     "metadata": {},
     "output_type": "display_data"
    }
   ],
   "source": [
    "plt.figure(figsize=(10,10))\n",
    "sns.barplot(data['Age'], data['Annual Income (k$)'])"
   ]
  },
  {
   "cell_type": "markdown",
   "metadata": {},
   "source": [
    "## (iii)Multi-Variate Analysis "
   ]
  },
  {
   "cell_type": "code",
   "execution_count": 13,
   "metadata": {},
   "outputs": [
    {
     "data": {
      "text/plain": [
       "<seaborn.axisgrid.PairGrid at 0x26c2acc86d8>"
      ]
     },
     "execution_count": 13,
     "metadata": {},
     "output_type": "execute_result"
    },
    {
     "data": {
      "image/png": "[encoded data removed]",
      "text/plain": [
       "<Figure size 720x720 with 20 Axes>"
      ]
     },
     "metadata": {},
     "output_type": "display_data"
    }
   ],
   "source": [
    "sns.pairplot(data)"
   ]
  },
  {
   "cell_type": "code",
   "execution_count": 14,
   "metadata": {},
   "outputs": [
    {
     "data": {
      "text/html": [
       "<div>\n",
       "<style scoped>\n",
       "    .dataframe tbody tr th:only-of-type {\n",
       "        vertical-align: middle;\n",
       "    }\n",
       "\n",
       "    .dataframe tbody tr th {\n",
       "        vertical-align: top;\n",
       "    }\n",
       "\n",
       "    .dataframe thead th {\n",
       "        text-align: right;\n",
       "    }\n",
       "</style>\n",
       "<table border=\"1\" class=\"dataframe\">\n",
       "  <thead>\n",
       "    <tr style=\"text-align: right;\">\n",
       "      <th></th>\n",
       "      <th>CustomerID</th>\n",
       "      <th>Age</th>\n",
       "      <th>Annual Income (k$)</th>\n",
       "      <th>Spending Score (1-100)</th>\n",
       "    </tr>\n",
       "  </thead>\n",
       "  <tbody>\n",
       "    <tr>\n",
       "      <th>CustomerID</th>\n",
       "      <td>1.000000</td>\n",
       "      <td>-0.026763</td>\n",
       "      <td>0.977548</td>\n",
       "      <td>0.013835</td>\n",
       "    </tr>\n",
       "    <tr>\n",
       "      <th>Age</th>\n",
       "      <td>-0.026763</td>\n",
       "      <td>1.000000</td>\n",
       "      <td>-0.012398</td>\n",
       "      <td>-0.327227</td>\n",
       "    </tr>\n",
       "    <tr>\n",
       "      <th>Annual Income (k$)</th>\n",
       "      <td>0.977548</td>\n",
       "      <td>-0.012398</td>\n",
       "      <td>1.000000</td>\n",
       "      <td>0.009903</td>\n",
       "    </tr>\n",
       "    <tr>\n",
       "      <th>Spending Score (1-100)</th>\n",
       "      <td>0.013835</td>\n",
       "      <td>-0.327227</td>\n",
       "      <td>0.009903</td>\n",
       "      <td>1.000000</td>\n",
       "    </tr>\n",
       "  </tbody>\n",
       "</table>\n",
       "</div>"
      ],
      "text/plain": [
       "                        CustomerID       Age  Annual Income (k$)  \\\n",
       "CustomerID                1.000000 -0.026763            0.977548   \n",
       "Age                      -0.026763  1.000000           -0.012398   \n",
       "Annual Income (k$)        0.977548 -0.012398            1.000000   \n",
       "Spending Score (1-100)    0.013835 -0.327227            0.009903   \n",
       "\n",
       "                        Spending Score (1-100)  \n",
       "CustomerID                            0.013835  \n",
       "Age                                  -0.327227  \n",
       "Annual Income (k$)                    0.009903  \n",
       "Spending Score (1-100)                1.000000  "
      ]
     },
     "execution_count": 14,
     "metadata": {},
     "output_type": "execute_result"
    }
   ],
   "source": [
    "data.corr()"
   ]
  },
  {
   "cell_type": "code",
   "execution_count": 15,
   "metadata": {},
   "outputs": [
    {
     "data": {
      "text/plain": [
       "<matplotlib.axes._subplots.AxesSubplot at 0x26c2baee048>"
      ]
     },
     "execution_count": 15,
     "metadata": {},
     "output_type": "execute_result"
    },
    {
     "data": {
      "image/png": "[encoded data removed]",
      "text/plain": [
       "<Figure size 432x288 with 2 Axes>"
      ]
     },
     "metadata": {},
     "output_type": "display_data"
    }
   ],
   "source": [
    "sns.heatmap(data.corr(), annot = True)"
   ]
  },
  {
   "cell_type": "markdown",
   "metadata": {},
   "source": [
    "## 4. Perform descriptive statistics on the dataset. "
   ]
  },
  {
   "cell_type": "code",
   "execution_count": 16,
   "metadata": {},
   "outputs": [
    {
     "data": {
      "text/plain": [
       "CustomerID                100.50\n",
       "Age                        38.85\n",
       "Annual Income (k$)         60.56\n",
       "Spending Score (1-100)     50.20\n",
       "dtype: float64"
      ]
     },
     "execution_count": 16,
     "metadata": {},
     "output_type": "execute_result"
    }
   ],
   "source": [
    "data.mean()"
   ]
  },
  {
   "cell_type": "code",
   "execution_count": 17,
   "metadata": {},
   "outputs": [
    {
     "data": {
      "text/plain": [
       "CustomerID                100.5\n",
       "Age                        36.0\n",
       "Annual Income (k$)         61.5\n",
       "Spending Score (1-100)     50.0\n",
       "dtype: float64"
      ]
     },
     "execution_count": 17,
     "metadata": {},
     "output_type": "execute_result"
    }
   ],
   "source": [
    "data.median()"
   ]
  },
  {
   "cell_type": "code",
   "execution_count": 18,
   "metadata": {
    "scrolled": true
   },
   "outputs": [
    {
     "data": {
      "text/html": [
       "<div>\n",
       "<style scoped>\n",
       "    .dataframe tbody tr th:only-of-type {\n",
       "        vertical-align: middle;\n",
       "    }\n",
       "\n",
       "    .dataframe tbody tr th {\n",
       "        vertical-align: top;\n",
       "    }\n",
       "\n",
       "    .dataframe thead th {\n",
       "        text-align: right;\n",
       "    }\n",
       "</style>\n",
       "<table border=\"1\" class=\"dataframe\">\n",
       "  <thead>\n",
       "    <tr style=\"text-align: right;\">\n",
       "      <th></th>\n",
       "      <th>CustomerID</th>\n",
       "      <th>Gender</th>\n",
       "      <th>Age</th>\n",
       "      <th>Annual Income (k$)</th>\n",
       "      <th>Spending Score (1-100)</th>\n",
       "    </tr>\n",
       "  </thead>\n",
       "  <tbody>\n",
       "    <tr>\n",
       "      <th>0</th>\n",
       "      <td>1</td>\n",
       "      <td>Female</td>\n",
       "      <td>32.0</td>\n",
       "      <td>54.0</td>\n",
       "      <td>42.0</td>\n",
       "    </tr>\n",
       "    <tr>\n",
       "      <th>1</th>\n",
       "      <td>2</td>\n",
       "      <td>NaN</td>\n",
       "      <td>NaN</td>\n",
       "      <td>78.0</td>\n",
       "      <td>NaN</td>\n",
       "    </tr>\n",
       "    <tr>\n",
       "      <th>2</th>\n",
       "      <td>3</td>\n",
       "      <td>NaN</td>\n",
       "      <td>NaN</td>\n",
       "      <td>NaN</td>\n",
       "      <td>NaN</td>\n",
       "    </tr>\n",
       "    <tr>\n",
       "      <th>3</th>\n",
       "      <td>4</td>\n",
       "      <td>NaN</td>\n",
       "      <td>NaN</td>\n",
       "      <td>NaN</td>\n",
       "      <td>NaN</td>\n",
       "    </tr>\n",
       "    <tr>\n",
       "      <th>4</th>\n",
       "      <td>5</td>\n",
       "      <td>NaN</td>\n",
       "      <td>NaN</td>\n",
       "      <td>NaN</td>\n",
       "      <td>NaN</td>\n",
       "    </tr>\n",
       "    <tr>\n",
       "      <th>5</th>\n",
       "      <td>6</td>\n",
       "      <td>NaN</td>\n",
       "      <td>NaN</td>\n",
       "      <td>NaN</td>\n",
       "      <td>NaN</td>\n",
       "    </tr>\n",
       "    <tr>\n",
       "      <th>6</th>\n",
       "      <td>7</td>\n",
       "      <td>NaN</td>\n",
       "      <td>NaN</td>\n",
       "      <td>NaN</td>\n",
       "      <td>NaN</td>\n",
       "    </tr>\n",
       "    <tr>\n",
       "      <th>7</th>\n",
       "      <td>8</td>\n",
       "      <td>NaN</td>\n",
       "      <td>NaN</td>\n",
       "      <td>NaN</td>\n",
       "      <td>NaN</td>\n",
       "    </tr>\n",
       "    <tr>\n",
       "      <th>8</th>\n",
       "      <td>9</td>\n",
       "      <td>NaN</td>\n",
       "      <td>NaN</td>\n",
       "      <td>NaN</td>\n",
       "      <td>NaN</td>\n",
       "    </tr>\n",
       "    <tr>\n",
       "      <th>9</th>\n",
       "      <td>10</td>\n",
       "      <td>NaN</td>\n",
       "      <td>NaN</td>\n",
       "      <td>NaN</td>\n",
       "      <td>NaN</td>\n",
       "    </tr>\n",
       "    <tr>\n",
       "      <th>10</th>\n",
       "      <td>11</td>\n",
       "      <td>NaN</td>\n",
       "      <td>NaN</td>\n",
       "      <td>NaN</td>\n",
       "      <td>NaN</td>\n",
       "    </tr>\n",
       "    <tr>\n",
       "      <th>11</th>\n",
       "      <td>12</td>\n",
       "      <td>NaN</td>\n",
       "      <td>NaN</td>\n",
       "      <td>NaN</td>\n",
       "      <td>NaN</td>\n",
       "    </tr>\n",
       "    <tr>\n",
       "      <th>12</th>\n",
       "      <td>13</td>\n",
       "      <td>NaN</td>\n",
       "      <td>NaN</td>\n",
       "      <td>NaN</td>\n",
       "      <td>NaN</td>\n",
       "    </tr>\n",
       "    <tr>\n",
       "      <th>13</th>\n",
       "      <td>14</td>\n",
       "      <td>NaN</td>\n",
       "      <td>NaN</td>\n",
       "      <td>NaN</td>\n",
       "      <td>NaN</td>\n",
       "    </tr>\n",
       "    <tr>\n",
       "      <th>14</th>\n",
       "      <td>15</td>\n",
       "      <td>NaN</td>\n",
       "      <td>NaN</td>\n",
       "      <td>NaN</td>\n",
       "      <td>NaN</td>\n",
       "    </tr>\n",
       "    <tr>\n",
       "      <th>15</th>\n",
       "      <td>16</td>\n",
       "      <td>NaN</td>\n",
       "      <td>NaN</td>\n",
       "      <td>NaN</td>\n",
       "      <td>NaN</td>\n",
       "    </tr>\n",
       "    <tr>\n",
       "      <th>16</th>\n",
       "      <td>17</td>\n",
       "      <td>NaN</td>\n",
       "      <td>NaN</td>\n",
       "      <td>NaN</td>\n",
       "      <td>NaN</td>\n",
       "    </tr>\n",
       "    <tr>\n",
       "      <th>17</th>\n",
       "      <td>18</td>\n",
       "      <td>NaN</td>\n",
       "      <td>NaN</td>\n",
       "      <td>NaN</td>\n",
       "      <td>NaN</td>\n",
       "    </tr>\n",
       "    <tr>\n",
       "      <th>18</th>\n",
       "      <td>19</td>\n",
       "      <td>NaN</td>\n",
       "      <td>NaN</td>\n",
       "      <td>NaN</td>\n",
       "      <td>NaN</td>\n",
       "    </tr>\n",
       "    <tr>\n",
       "      <th>19</th>\n",
       "      <td>20</td>\n",
       "      <td>NaN</td>\n",
       "      <td>NaN</td>\n",
       "      <td>NaN</td>\n",
       "      <td>NaN</td>\n",
       "    </tr>\n",
       "    <tr>\n",
       "      <th>20</th>\n",
       "      <td>21</td>\n",
       "      <td>NaN</td>\n",
       "      <td>NaN</td>\n",
       "      <td>NaN</td>\n",
       "      <td>NaN</td>\n",
       "    </tr>\n",
       "    <tr>\n",
       "      <th>21</th>\n",
       "      <td>22</td>\n",
       "      <td>NaN</td>\n",
       "      <td>NaN</td>\n",
       "      <td>NaN</td>\n",
       "      <td>NaN</td>\n",
       "    </tr>\n",
       "    <tr>\n",
       "      <th>22</th>\n",
       "      <td>23</td>\n",
       "      <td>NaN</td>\n",
       "      <td>NaN</td>\n",
       "      <td>NaN</td>\n",
       "      <td>NaN</td>\n",
       "    </tr>\n",
       "    <tr>\n",
       "      <th>23</th>\n",
       "      <td>24</td>\n",
       "      <td>NaN</td>\n",
       "      <td>NaN</td>\n",
       "      <td>NaN</td>\n",
       "      <td>NaN</td>\n",
       "    </tr>\n",
       "    <tr>\n",
       "      <th>24</th>\n",
       "      <td>25</td>\n",
       "      <td>NaN</td>\n",
       "      <td>NaN</td>\n",
       "      <td>NaN</td>\n",
       "      <td>NaN</td>\n",
       "    </tr>\n",
       "    <tr>\n",
       "      <th>25</th>\n",
       "      <td>26</td>\n",
       "      <td>NaN</td>\n",
       "      <td>NaN</td>\n",
       "      <td>NaN</td>\n",
       "      <td>NaN</td>\n",
       "    </tr>\n",
       "    <tr>\n",
       "      <th>26</th>\n",
       "      <td>27</td>\n",
       "      <td>NaN</td>\n",
       "      <td>NaN</td>\n",
       "      <td>NaN</td>\n",
       "      <td>NaN</td>\n",
       "    </tr>\n",
       "    <tr>\n",
       "      <th>27</th>\n",
       "      <td>28</td>\n",
       "      <td>NaN</td>\n",
       "      <td>NaN</td>\n",
       "      <td>NaN</td>\n",
       "      <td>NaN</td>\n",
       "    </tr>\n",
       "    <tr>\n",
       "      <th>28</th>\n",
       "      <td>29</td>\n",
       "      <td>NaN</td>\n",
       "      <td>NaN</td>\n",
       "      <td>NaN</td>\n",
       "      <td>NaN</td>\n",
       "    </tr>\n",
       "    <tr>\n",
       "      <th>29</th>\n",
       "      <td>30</td>\n",
       "      <td>NaN</td>\n",
       "      <td>NaN</td>\n",
       "      <td>NaN</td>\n",
       "      <td>NaN</td>\n",
       "    </tr>\n",
       "    <tr>\n",
       "      <th>...</th>\n",
       "      <td>...</td>\n",
       "      <td>...</td>\n",
       "      <td>...</td>\n",
       "      <td>...</td>\n",
       "      <td>...</td>\n",
       "    </tr>\n",
       "    <tr>\n",
       "      <th>170</th>\n",
       "      <td>171</td>\n",
       "      <td>NaN</td>\n",
       "      <td>NaN</td>\n",
       "      <td>NaN</td>\n",
       "      <td>NaN</td>\n",
       "    </tr>\n",
       "    <tr>\n",
       "      <th>171</th>\n",
       "      <td>172</td>\n",
       "      <td>NaN</td>\n",
       "      <td>NaN</td>\n",
       "      <td>NaN</td>\n",
       "      <td>NaN</td>\n",
       "    </tr>\n",
       "    <tr>\n",
       "      <th>172</th>\n",
       "      <td>173</td>\n",
       "      <td>NaN</td>\n",
       "      <td>NaN</td>\n",
       "      <td>NaN</td>\n",
       "      <td>NaN</td>\n",
       "    </tr>\n",
       "    <tr>\n",
       "      <th>173</th>\n",
       "      <td>174</td>\n",
       "      <td>NaN</td>\n",
       "      <td>NaN</td>\n",
       "      <td>NaN</td>\n",
       "      <td>NaN</td>\n",
       "    </tr>\n",
       "    <tr>\n",
       "      <th>174</th>\n",
       "      <td>175</td>\n",
       "      <td>NaN</td>\n",
       "      <td>NaN</td>\n",
       "      <td>NaN</td>\n",
       "      <td>NaN</td>\n",
       "    </tr>\n",
       "    <tr>\n",
       "      <th>175</th>\n",
       "      <td>176</td>\n",
       "      <td>NaN</td>\n",
       "      <td>NaN</td>\n",
       "      <td>NaN</td>\n",
       "      <td>NaN</td>\n",
       "    </tr>\n",
       "    <tr>\n",
       "      <th>176</th>\n",
       "      <td>177</td>\n",
       "      <td>NaN</td>\n",
       "      <td>NaN</td>\n",
       "      <td>NaN</td>\n",
       "      <td>NaN</td>\n",
       "    </tr>\n",
       "    <tr>\n",
       "      <th>177</th>\n",
       "      <td>178</td>\n",
       "      <td>NaN</td>\n",
       "      <td>NaN</td>\n",
       "      <td>NaN</td>\n",
       "      <td>NaN</td>\n",
       "    </tr>\n",
       "    <tr>\n",
       "      <th>178</th>\n",
       "      <td>179</td>\n",
       "      <td>NaN</td>\n",
       "      <td>NaN</td>\n",
       "      <td>NaN</td>\n",
       "      <td>NaN</td>\n",
       "    </tr>\n",
       "    <tr>\n",
       "      <th>179</th>\n",
       "      <td>180</td>\n",
       "      <td>NaN</td>\n",
       "      <td>NaN</td>\n",
       "      <td>NaN</td>\n",
       "      <td>NaN</td>\n",
       "    </tr>\n",
       "    <tr>\n",
       "      <th>180</th>\n",
       "      <td>181</td>\n",
       "      <td>NaN</td>\n",
       "      <td>NaN</td>\n",
       "      <td>NaN</td>\n",
       "      <td>NaN</td>\n",
       "    </tr>\n",
       "    <tr>\n",
       "      <th>181</th>\n",
       "      <td>182</td>\n",
       "      <td>NaN</td>\n",
       "      <td>NaN</td>\n",
       "      <td>NaN</td>\n",
       "      <td>NaN</td>\n",
       "    </tr>\n",
       "    <tr>\n",
       "      <th>182</th>\n",
       "      <td>183</td>\n",
       "      <td>NaN</td>\n",
       "      <td>NaN</td>\n",
       "      <td>NaN</td>\n",
       "      <td>NaN</td>\n",
       "    </tr>\n",
       "    <tr>\n",
       "      <th>183</th>\n",
       "      <td>184</td>\n",
       "      <td>NaN</td>\n",
       "      <td>NaN</td>\n",
       "      <td>NaN</td>\n",
       "      <td>NaN</td>\n",
       "    </tr>\n",
       "    <tr>\n",
       "      <th>184</th>\n",
       "      <td>185</td>\n",
       "      <td>NaN</td>\n",
       "      <td>NaN</td>\n",
       "      <td>NaN</td>\n",
       "      <td>NaN</td>\n",
       "    </tr>\n",
       "    <tr>\n",
       "      <th>185</th>\n",
       "      <td>186</td>\n",
       "      <td>NaN</td>\n",
       "      <td>NaN</td>\n",
       "      <td>NaN</td>\n",
       "      <td>NaN</td>\n",
       "    </tr>\n",
       "    <tr>\n",
       "      <th>186</th>\n",
       "      <td>187</td>\n",
       "      <td>NaN</td>\n",
       "      <td>NaN</td>\n",
       "      <td>NaN</td>\n",
       "      <td>NaN</td>\n",
       "    </tr>\n",
       "    <tr>\n",
       "      <th>187</th>\n",
       "      <td>188</td>\n",
       "      <td>NaN</td>\n",
       "      <td>NaN</td>\n",
       "      <td>NaN</td>\n",
       "      <td>NaN</td>\n",
       "    </tr>\n",
       "    <tr>\n",
       "      <th>188</th>\n",
       "      <td>189</td>\n",
       "      <td>NaN</td>\n",
       "      <td>NaN</td>\n",
       "      <td>NaN</td>\n",
       "      <td>NaN</td>\n",
       "    </tr>\n",
       "    <tr>\n",
       "      <th>189</th>\n",
       "      <td>190</td>\n",
       "      <td>NaN</td>\n",
       "      <td>NaN</td>\n",
       "      <td>NaN</td>\n",
       "      <td>NaN</td>\n",
       "    </tr>\n",
       "    <tr>\n",
       "      <th>190</th>\n",
       "      <td>191</td>\n",
       "      <td>NaN</td>\n",
       "      <td>NaN</td>\n",
       "      <td>NaN</td>\n",
       "      <td>NaN</td>\n",
       "    </tr>\n",
       "    <tr>\n",
       "      <th>191</th>\n",
       "      <td>192</td>\n",
       "      <td>NaN</td>\n",
       "      <td>NaN</td>\n",
       "      <td>NaN</td>\n",
       "      <td>NaN</td>\n",
       "    </tr>\n",
       "    <tr>\n",
       "      <th>192</th>\n",
       "      <td>193</td>\n",
       "      <td>NaN</td>\n",
       "      <td>NaN</td>\n",
       "      <td>NaN</td>\n",
       "      <td>NaN</td>\n",
       "    </tr>\n",
       "    <tr>\n",
       "      <th>193</th>\n",
       "      <td>194</td>\n",
       "      <td>NaN</td>\n",
       "      <td>NaN</td>\n",
       "      <td>NaN</td>\n",
       "      <td>NaN</td>\n",
       "    </tr>\n",
       "    <tr>\n",
       "      <th>194</th>\n",
       "      <td>195</td>\n",
       "      <td>NaN</td>\n",
       "      <td>NaN</td>\n",
       "      <td>NaN</td>\n",
       "      <td>NaN</td>\n",
       "    </tr>\n",
       "    <tr>\n",
       "      <th>195</th>\n",
       "      <td>196</td>\n",
       "      <td>NaN</td>\n",
       "      <td>NaN</td>\n",
       "      <td>NaN</td>\n",
       "      <td>NaN</td>\n",
       "    </tr>\n",
       "    <tr>\n",
       "      <th>196</th>\n",
       "      <td>197</td>\n",
       "      <td>NaN</td>\n",
       "      <td>NaN</td>\n",
       "      <td>NaN</td>\n",
       "      <td>NaN</td>\n",
       "    </tr>\n",
       "    <tr>\n",
       "      <th>197</th>\n",
       "      <td>198</td>\n",
       "      <td>NaN</td>\n",
       "      <td>NaN</td>\n",
       "      <td>NaN</td>\n",
       "      <td>NaN</td>\n",
       "    </tr>\n",
       "    <tr>\n",
       "      <th>198</th>\n",
       "      <td>199</td>\n",
       "      <td>NaN</td>\n",
       "      <td>NaN</td>\n",
       "      <td>NaN</td>\n",
       "      <td>NaN</td>\n",
       "    </tr>\n",
       "    <tr>\n",
       "      <th>199</th>\n",
       "      <td>200</td>\n",
       "      <td>NaN</td>\n",
       "      <td>NaN</td>\n",
       "      <td>NaN</td>\n",
       "      <td>NaN</td>\n",
       "    </tr>\n",
       "  </tbody>\n",
       "</table>\n",
       "<p>200 rows × 5 columns</p>\n",
       "</div>"
      ],
      "text/plain": [
       "     CustomerID  Gender   Age  Annual Income (k$)  Spending Score (1-100)\n",
       "0             1  Female  32.0                54.0                    42.0\n",
       "1             2     NaN   NaN                78.0                     NaN\n",
       "2             3     NaN   NaN                 NaN                     NaN\n",
       "3             4     NaN   NaN                 NaN                     NaN\n",
       "4             5     NaN   NaN                 NaN                     NaN\n",
       "5             6     NaN   NaN                 NaN                     NaN\n",
       "6             7     NaN   NaN                 NaN                     NaN\n",
       "7             8     NaN   NaN                 NaN                     NaN\n",
       "8             9     NaN   NaN                 NaN                     NaN\n",
       "9            10     NaN   NaN                 NaN                     NaN\n",
       "10           11     NaN   NaN                 NaN                     NaN\n",
       "11           12     NaN   NaN                 NaN                     NaN\n",
       "12           13     NaN   NaN                 NaN                     NaN\n",
       "13           14     NaN   NaN                 NaN                     NaN\n",
       "14           15     NaN   NaN                 NaN                     NaN\n",
       "15           16     NaN   NaN                 NaN                     NaN\n",
       "16           17     NaN   NaN                 NaN                     NaN\n",
       "17           18     NaN   NaN                 NaN                     NaN\n",
       "18           19     NaN   NaN                 NaN                     NaN\n",
       "19           20     NaN   NaN                 NaN                     NaN\n",
       "20           21     NaN   NaN                 NaN                     NaN\n",
       "21           22     NaN   NaN                 NaN                     NaN\n",
       "22           23     NaN   NaN                 NaN                     NaN\n",
       "23           24     NaN   NaN                 NaN                     NaN\n",
       "24           25     NaN   NaN                 NaN                     NaN\n",
       "25           26     NaN   NaN                 NaN                     NaN\n",
       "26           27     NaN   NaN                 NaN                     NaN\n",
       "27           28     NaN   NaN                 NaN                     NaN\n",
       "28           29     NaN   NaN                 NaN                     NaN\n",
       "29           30     NaN   NaN                 NaN                     NaN\n",
       "..          ...     ...   ...                 ...                     ...\n",
       "170         171     NaN   NaN                 NaN                     NaN\n",
       "171         172     NaN   NaN                 NaN                     NaN\n",
       "172         173     NaN   NaN                 NaN                     NaN\n",
       "173         174     NaN   NaN                 NaN                     NaN\n",
       "174         175     NaN   NaN                 NaN                     NaN\n",
       "175         176     NaN   NaN                 NaN                     NaN\n",
       "176         177     NaN   NaN                 NaN                     NaN\n",
       "177         178     NaN   NaN                 NaN                     NaN\n",
       "178         179     NaN   NaN                 NaN                     NaN\n",
       "179         180     NaN   NaN                 NaN                     NaN\n",
       "180         181     NaN   NaN                 NaN                     NaN\n",
       "181         182     NaN   NaN                 NaN                     NaN\n",
       "182         183     NaN   NaN                 NaN                     NaN\n",
       "183         184     NaN   NaN                 NaN                     NaN\n",
       "184         185     NaN   NaN                 NaN                     NaN\n",
       "185         186     NaN   NaN                 NaN                     NaN\n",
       "186         187     NaN   NaN                 NaN                     NaN\n",
       "187         188     NaN   NaN                 NaN                     NaN\n",
       "188         189     NaN   NaN                 NaN                     NaN\n",
       "189         190     NaN   NaN                 NaN                     NaN\n",
       "190         191     NaN   NaN                 NaN                     NaN\n",
       "191         192     NaN   NaN                 NaN                     NaN\n",
       "192         193     NaN   NaN                 NaN                     NaN\n",
       "193         194     NaN   NaN                 NaN                     NaN\n",
       "194         195     NaN   NaN                 NaN                     NaN\n",
       "195         196     NaN   NaN                 NaN                     NaN\n",
       "196         197     NaN   NaN                 NaN                     NaN\n",
       "197         198     NaN   NaN                 NaN                     NaN\n",
       "198         199     NaN   NaN                 NaN                     NaN\n",
       "199         200     NaN   NaN                 NaN                     NaN\n",
       "\n",
       "[200 rows x 5 columns]"
      ]
     },
     "execution_count": 18,
     "metadata": {},
     "output_type": "execute_result"
    }
   ],
   "source": [
    "data.mode()"
   ]
  },
  {
   "cell_type": "code",
   "execution_count": 19,
   "metadata": {},
   "outputs": [
    {
     "data": {
      "text/plain": [
       "CustomerID                3350.000000\n",
       "Age                        195.133166\n",
       "Annual Income (k$)         689.835578\n",
       "Spending Score (1-100)     666.854271\n",
       "dtype: float64"
      ]
     },
     "execution_count": 19,
     "metadata": {},
     "output_type": "execute_result"
    }
   ],
   "source": [
    "data.var()"
   ]
  },
  {
   "cell_type": "code",
   "execution_count": 20,
   "metadata": {},
   "outputs": [
    {
     "data": {
      "text/plain": [
       "CustomerID                57.879185\n",
       "Age                       13.969007\n",
       "Annual Income (k$)        26.264721\n",
       "Spending Score (1-100)    25.823522\n",
       "dtype: float64"
      ]
     },
     "execution_count": 20,
     "metadata": {},
     "output_type": "execute_result"
    }
   ],
   "source": [
    "data.std()"
   ]
  },
  {
   "cell_type": "code",
   "execution_count": 21,
   "metadata": {},
   "outputs": [
    {
     "data": {
      "text/html": [
       "<div>\n",
       "<style scoped>\n",
       "    .dataframe tbody tr th:only-of-type {\n",
       "        vertical-align: middle;\n",
       "    }\n",
       "\n",
       "    .dataframe tbody tr th {\n",
       "        vertical-align: top;\n",
       "    }\n",
       "\n",
       "    .dataframe thead th {\n",
       "        text-align: right;\n",
       "    }\n",
       "</style>\n",
       "<table border=\"1\" class=\"dataframe\">\n",
       "  <thead>\n",
       "    <tr style=\"text-align: right;\">\n",
       "      <th></th>\n",
       "      <th>CustomerID</th>\n",
       "      <th>Age</th>\n",
       "      <th>Annual Income (k$)</th>\n",
       "      <th>Spending Score (1-100)</th>\n",
       "    </tr>\n",
       "  </thead>\n",
       "  <tbody>\n",
       "    <tr>\n",
       "      <th>count</th>\n",
       "      <td>200.000000</td>\n",
       "      <td>200.000000</td>\n",
       "      <td>200.000000</td>\n",
       "      <td>200.000000</td>\n",
       "    </tr>\n",
       "    <tr>\n",
       "      <th>mean</th>\n",
       "      <td>100.500000</td>\n",
       "      <td>38.850000</td>\n",
       "      <td>60.560000</td>\n",
       "      <td>50.200000</td>\n",
       "    </tr>\n",
       "    <tr>\n",
       "      <th>std</th>\n",
       "      <td>57.879185</td>\n",
       "      <td>13.969007</td>\n",
       "      <td>26.264721</td>\n",
       "      <td>25.823522</td>\n",
       "    </tr>\n",
       "    <tr>\n",
       "      <th>min</th>\n",
       "      <td>1.000000</td>\n",
       "      <td>18.000000</td>\n",
       "      <td>15.000000</td>\n",
       "      <td>1.000000</td>\n",
       "    </tr>\n",
       "    <tr>\n",
       "      <th>25%</th>\n",
       "      <td>50.750000</td>\n",
       "      <td>28.750000</td>\n",
       "      <td>41.500000</td>\n",
       "      <td>34.750000</td>\n",
       "    </tr>\n",
       "    <tr>\n",
       "      <th>50%</th>\n",
       "      <td>100.500000</td>\n",
       "      <td>36.000000</td>\n",
       "      <td>61.500000</td>\n",
       "      <td>50.000000</td>\n",
       "    </tr>\n",
       "    <tr>\n",
       "      <th>75%</th>\n",
       "      <td>150.250000</td>\n",
       "      <td>49.000000</td>\n",
       "      <td>78.000000</td>\n",
       "      <td>73.000000</td>\n",
       "    </tr>\n",
       "    <tr>\n",
       "      <th>max</th>\n",
       "      <td>200.000000</td>\n",
       "      <td>70.000000</td>\n",
       "      <td>137.000000</td>\n",
       "      <td>99.000000</td>\n",
       "    </tr>\n",
       "  </tbody>\n",
       "</table>\n",
       "</div>"
      ],
      "text/plain": [
       "       CustomerID         Age  Annual Income (k$)  Spending Score (1-100)\n",
       "count  200.000000  200.000000          200.000000              200.000000\n",
       "mean   100.500000   38.850000           60.560000               50.200000\n",
       "std     57.879185   13.969007           26.264721               25.823522\n",
       "min      1.000000   18.000000           15.000000                1.000000\n",
       "25%     50.750000   28.750000           41.500000               34.750000\n",
       "50%    100.500000   36.000000           61.500000               50.000000\n",
       "75%    150.250000   49.000000           78.000000               73.000000\n",
       "max    200.000000   70.000000          137.000000               99.000000"
      ]
     },
     "execution_count": 21,
     "metadata": {},
     "output_type": "execute_result"
    }
   ],
   "source": [
    "data.describe()"
   ]
  },
  {
   "cell_type": "code",
   "execution_count": 22,
   "metadata": {},
   "outputs": [
    {
     "data": {
      "text/plain": [
       "array([19, 21, 20, 23, 31, 22, 35, 64, 30, 67, 58, 24, 37, 52, 25, 46, 54,\n",
       "       29, 45, 40, 60, 53, 18, 49, 42, 36, 65, 48, 50, 27, 33, 59, 47, 51,\n",
       "       69, 70, 63, 43, 68, 32, 26, 57, 38, 55, 34, 66, 39, 44, 28, 56, 41],\n",
       "      dtype=int64)"
      ]
     },
     "execution_count": 22,
     "metadata": {},
     "output_type": "execute_result"
    }
   ],
   "source": [
    "data['Age'].unique()"
   ]
  },
  {
   "cell_type": "code",
   "execution_count": 23,
   "metadata": {
    "scrolled": true
   },
   "outputs": [
    {
     "data": {
      "text/plain": [
       "32    11\n",
       "35     9\n",
       "19     8\n",
       "31     8\n",
       "30     7\n",
       "49     7\n",
       "27     6\n",
       "47     6\n",
       "40     6\n",
       "23     6\n",
       "36     6\n",
       "38     6\n",
       "50     5\n",
       "48     5\n",
       "29     5\n",
       "21     5\n",
       "20     5\n",
       "34     5\n",
       "18     4\n",
       "28     4\n",
       "59     4\n",
       "24     4\n",
       "67     4\n",
       "54     4\n",
       "39     3\n",
       "25     3\n",
       "33     3\n",
       "22     3\n",
       "37     3\n",
       "43     3\n",
       "68     3\n",
       "45     3\n",
       "46     3\n",
       "60     3\n",
       "41     2\n",
       "57     2\n",
       "66     2\n",
       "65     2\n",
       "63     2\n",
       "58     2\n",
       "26     2\n",
       "70     2\n",
       "42     2\n",
       "53     2\n",
       "52     2\n",
       "51     2\n",
       "44     2\n",
       "55     1\n",
       "64     1\n",
       "69     1\n",
       "56     1\n",
       "Name: Age, dtype: int64"
      ]
     },
     "execution_count": 23,
     "metadata": {},
     "output_type": "execute_result"
    }
   ],
   "source": [
    "data['Age'].value_counts()"
   ]
  },
  {
   "cell_type": "markdown",
   "metadata": {},
   "source": [
    "## 5. Check for Missing values and deal with them. "
   ]
  },
  {
   "cell_type": "code",
   "execution_count": 24,
   "metadata": {},
   "outputs": [
    {
     "data": {
      "text/plain": [
       "CustomerID                False\n",
       "Gender                    False\n",
       "Age                       False\n",
       "Annual Income (k$)        False\n",
       "Spending Score (1-100)    False\n",
       "dtype: bool"
      ]
     },
     "execution_count": 24,
     "metadata": {},
     "output_type": "execute_result"
    }
   ],
   "source": [
    "data.isnull().any()"
   ]
  },
  {
   "cell_type": "code",
   "execution_count": 25,
   "metadata": {},
   "outputs": [
    {
     "data": {
      "text/plain": [
       "CustomerID                0\n",
       "Gender                    0\n",
       "Age                       0\n",
       "Annual Income (k$)        0\n",
       "Spending Score (1-100)    0\n",
       "dtype: int64"
      ]
     },
     "execution_count": 25,
     "metadata": {},
     "output_type": "execute_result"
    }
   ],
   "source": [
    "data.isnull().sum()"
   ]
  },
  {
   "cell_type": "markdown",
   "metadata": {},
   "source": [
    "                 ### THERE IS NO MISSING VALUES"
   ]
  },
  {
   "cell_type": "markdown",
   "metadata": {},
   "source": [
    "                ### IF ANY MISSING VALUES THERE WE HAVE TO DO FOLLOWING"
   ]
  },
  {
   "cell_type": "code",
   "execution_count": 26,
   "metadata": {},
   "outputs": [
    {
     "data": {
      "text/plain": [
       "CustomerID                100.50\n",
       "Age                        38.85\n",
       "Annual Income (k$)         60.56\n",
       "Spending Score (1-100)     50.20\n",
       "dtype: float64"
      ]
     },
     "execution_count": 26,
     "metadata": {},
     "output_type": "execute_result"
    }
   ],
   "source": [
    "data.mean()"
   ]
  },
  {
   "cell_type": "code",
   "execution_count": 27,
   "metadata": {},
   "outputs": [
    {
     "data": {
      "text/plain": [
       "CustomerID                100.5\n",
       "Age                        36.0\n",
       "Annual Income (k$)         61.5\n",
       "Spending Score (1-100)     50.0\n",
       "dtype: float64"
      ]
     },
     "execution_count": 27,
     "metadata": {},
     "output_type": "execute_result"
    }
   ],
   "source": [
    "data.median()"
   ]
  },
  {
   "cell_type": "code",
   "execution_count": 28,
   "metadata": {},
   "outputs": [
    {
     "data": {
      "text/plain": [
       "0    32\n",
       "dtype: int64"
      ]
     },
     "execution_count": 28,
     "metadata": {},
     "output_type": "execute_result"
    }
   ],
   "source": [
    "data['Age'].mode()"
   ]
  },
  {
   "cell_type": "code",
   "execution_count": 29,
   "metadata": {},
   "outputs": [
    {
     "data": {
      "text/plain": [
       "array([19, 21, 20, 23, 31, 22, 35, 64, 30, 67, 58, 24, 37, 52, 25, 46, 54,\n",
       "       29, 45, 40, 60, 53, 18, 49, 42, 36, 65, 48, 50, 27, 33, 59, 47, 51,\n",
       "       69, 70, 63, 43, 68, 32, 26, 57, 38, 55, 34, 66, 39, 44, 28, 56, 41],\n",
       "      dtype=int64)"
      ]
     },
     "execution_count": 29,
     "metadata": {},
     "output_type": "execute_result"
    }
   ],
   "source": [
    "data['Age'].unique()"
   ]
  },
  {
   "cell_type": "code",
   "execution_count": 30,
   "metadata": {
    "scrolled": true
   },
   "outputs": [
    {
     "data": {
      "text/plain": [
       "0      19\n",
       "1      21\n",
       "2      20\n",
       "3      23\n",
       "4      31\n",
       "5      22\n",
       "6      35\n",
       "7      23\n",
       "8      64\n",
       "9      30\n",
       "10     67\n",
       "11     35\n",
       "12     58\n",
       "13     24\n",
       "14     37\n",
       "15     22\n",
       "16     35\n",
       "17     20\n",
       "18     52\n",
       "19     35\n",
       "20     35\n",
       "21     25\n",
       "22     46\n",
       "23     31\n",
       "24     54\n",
       "25     29\n",
       "26     45\n",
       "27     35\n",
       "28     40\n",
       "29     23\n",
       "       ..\n",
       "170    40\n",
       "171    28\n",
       "172    36\n",
       "173    36\n",
       "174    52\n",
       "175    30\n",
       "176    58\n",
       "177    27\n",
       "178    59\n",
       "179    35\n",
       "180    37\n",
       "181    32\n",
       "182    46\n",
       "183    29\n",
       "184    41\n",
       "185    30\n",
       "186    54\n",
       "187    28\n",
       "188    41\n",
       "189    36\n",
       "190    34\n",
       "191    32\n",
       "192    33\n",
       "193    38\n",
       "194    47\n",
       "195    35\n",
       "196    45\n",
       "197    32\n",
       "198    32\n",
       "199    30\n",
       "Name: Age, Length: 200, dtype: int64"
      ]
     },
     "execution_count": 30,
     "metadata": {},
     "output_type": "execute_result"
    }
   ],
   "source": [
    "data['Age'] = data['Age'].fillna(data['Age'].mode()[0])\n",
    "data['Age']"
   ]
  },
  {
   "cell_type": "code",
   "execution_count": 31,
   "metadata": {
    "scrolled": true
   },
   "outputs": [
    {
     "data": {
      "text/plain": [
       "0      19\n",
       "1      21\n",
       "2      20\n",
       "3      23\n",
       "4      31\n",
       "5      22\n",
       "6      35\n",
       "7      23\n",
       "8      64\n",
       "9      30\n",
       "10     67\n",
       "11     35\n",
       "12     58\n",
       "13     24\n",
       "14     37\n",
       "15     22\n",
       "16     35\n",
       "17     20\n",
       "18     52\n",
       "19     35\n",
       "20     35\n",
       "21     25\n",
       "22     46\n",
       "23     31\n",
       "24     54\n",
       "25     29\n",
       "26     45\n",
       "27     35\n",
       "28     40\n",
       "29     23\n",
       "       ..\n",
       "170    40\n",
       "171    28\n",
       "172    36\n",
       "173    36\n",
       "174    52\n",
       "175    30\n",
       "176    58\n",
       "177    27\n",
       "178    59\n",
       "179    35\n",
       "180    37\n",
       "181    32\n",
       "182    46\n",
       "183    29\n",
       "184    41\n",
       "185    30\n",
       "186    54\n",
       "187    28\n",
       "188    41\n",
       "189    36\n",
       "190    34\n",
       "191    32\n",
       "192    33\n",
       "193    38\n",
       "194    47\n",
       "195    35\n",
       "196    45\n",
       "197    32\n",
       "198    32\n",
       "199    30\n",
       "Name: Age, Length: 200, dtype: int64"
      ]
     },
     "execution_count": 31,
     "metadata": {},
     "output_type": "execute_result"
    }
   ],
   "source": [
    "data['Age'] = data['Age'].fillna(data['Age'].mean())\n",
    "data['Age']"
   ]
  },
  {
   "cell_type": "markdown",
   "metadata": {},
   "source": [
    "## 6. Find the outliers and replace them outliers "
   ]
  },
  {
   "cell_type": "code",
   "execution_count": 34,
   "metadata": {},
   "outputs": [
    {
     "data": {
      "text/plain": [
       "<matplotlib.axes._subplots.AxesSubplot at 0x26c2b9c9a90>"
      ]
     },
     "execution_count": 34,
     "metadata": {},
     "output_type": "execute_result"
    },
    {
     "data": {
      "image/png": "[encoded data removed]",
      "text/plain": [
       "<Figure size 432x288 with 1 Axes>"
      ]
     },
     "metadata": {},
     "output_type": "display_data"
    }
   ],
   "source": [
    "sns.boxplot(data['Annual Income (k$)'])"
   ]
  },
  {
   "cell_type": "code",
   "execution_count": 35,
   "metadata": {},
   "outputs": [
    {
     "data": {
      "text/html": [
       "<div>\n",
       "<style scoped>\n",
       "    .dataframe tbody tr th:only-of-type {\n",
       "        vertical-align: middle;\n",
       "    }\n",
       "\n",
       "    .dataframe tbody tr th {\n",
       "        vertical-align: top;\n",
       "    }\n",
       "\n",
       "    .dataframe thead th {\n",
       "        text-align: right;\n",
       "    }\n",
       "</style>\n",
       "<table border=\"1\" class=\"dataframe\">\n",
       "  <thead>\n",
       "    <tr style=\"text-align: right;\">\n",
       "      <th></th>\n",
       "      <th>CustomerID</th>\n",
       "      <th>Age</th>\n",
       "      <th>Annual Income (k$)</th>\n",
       "      <th>Spending Score (1-100)</th>\n",
       "    </tr>\n",
       "  </thead>\n",
       "  <tbody>\n",
       "    <tr>\n",
       "      <th>0.80</th>\n",
       "      <td>160.20</td>\n",
       "      <td>50.2</td>\n",
       "      <td>78.20</td>\n",
       "      <td>75.00</td>\n",
       "    </tr>\n",
       "    <tr>\n",
       "      <th>0.45</th>\n",
       "      <td>90.55</td>\n",
       "      <td>35.0</td>\n",
       "      <td>58.55</td>\n",
       "      <td>47.55</td>\n",
       "    </tr>\n",
       "  </tbody>\n",
       "</table>\n",
       "</div>"
      ],
      "text/plain": [
       "      CustomerID   Age  Annual Income (k$)  Spending Score (1-100)\n",
       "0.80      160.20  50.2               78.20                   75.00\n",
       "0.45       90.55  35.0               58.55                   47.55"
      ]
     },
     "execution_count": 35,
     "metadata": {},
     "output_type": "execute_result"
    }
   ],
   "source": [
    "q  = data.quantile([0.80,0.45])\n",
    "q"
   ]
  },
  {
   "cell_type": "code",
   "execution_count": 36,
   "metadata": {},
   "outputs": [
    {
     "data": {
      "text/plain": [
       "CustomerID                69.65\n",
       "Age                       15.20\n",
       "Annual Income (k$)        19.65\n",
       "Spending Score (1-100)    27.45\n",
       "dtype: float64"
      ]
     },
     "execution_count": 36,
     "metadata": {},
     "output_type": "execute_result"
    }
   ],
   "source": [
    "iqr =  q.iloc[0] - q.iloc[1]\n",
    "iqr"
   ]
  },
  {
   "cell_type": "code",
   "execution_count": 37,
   "metadata": {},
   "outputs": [
    {
     "data": {
      "text/plain": [
       "CustomerID                264.675\n",
       "Age                        73.000\n",
       "Annual Income (k$)        107.675\n",
       "Spending Score (1-100)    116.175\n",
       "dtype: float64"
      ]
     },
     "execution_count": 37,
     "metadata": {},
     "output_type": "execute_result"
    }
   ],
   "source": [
    "u = q.iloc[0] + (1.5*iqr)   \n",
    "u"
   ]
  },
  {
   "cell_type": "code",
   "execution_count": 38,
   "metadata": {},
   "outputs": [
    {
     "data": {
      "text/plain": [
       "CustomerID               -13.925\n",
       "Age                       12.200\n",
       "Annual Income (k$)        29.075\n",
       "Spending Score (1-100)     6.375\n",
       "dtype: float64"
      ]
     },
     "execution_count": 38,
     "metadata": {},
     "output_type": "execute_result"
    }
   ],
   "source": [
    "l=q.iloc[1] - (1.5*iqr)\n",
    "l"
   ]
  },
  {
   "cell_type": "code",
   "execution_count": 50,
   "metadata": {},
   "outputs": [
    {
     "data": {
      "text/plain": [
       "<matplotlib.axes._subplots.AxesSubplot at 0x26c2ce609e8>"
      ]
     },
     "execution_count": 50,
     "metadata": {},
     "output_type": "execute_result"
    },
    {
     "data": {
      "image/png": "[encoded data removed]",
      "text/plain": [
       "<Figure size 432x288 with 1 Axes>"
      ]
     },
     "metadata": {},
     "output_type": "display_data"
    }
   ],
   "source": [
    "data['CustomerID'] = np.where(data['CustomerID']>50, 20, data['CustomerID'])\n",
    "sns.boxplot(data['CustomerID'])"
   ]
  },
  {
   "cell_type": "markdown",
   "metadata": {},
   "source": [
    "## 7. Check for Categorical columns and perform encoding. "
   ]
  },
  {
   "cell_type": "code",
   "execution_count": 52,
   "metadata": {},
   "outputs": [
    {
     "data": {
      "text/html": [
       "<div>\n",
       "<style scoped>\n",
       "    .dataframe tbody tr th:only-of-type {\n",
       "        vertical-align: middle;\n",
       "    }\n",
       "\n",
       "    .dataframe tbody tr th {\n",
       "        vertical-align: top;\n",
       "    }\n",
       "\n",
       "    .dataframe thead th {\n",
       "        text-align: right;\n",
       "    }\n",
       "</style>\n",
       "<table border=\"1\" class=\"dataframe\">\n",
       "  <thead>\n",
       "    <tr style=\"text-align: right;\">\n",
       "      <th></th>\n",
       "      <th>CustomerID</th>\n",
       "      <th>Gender</th>\n",
       "      <th>Age</th>\n",
       "      <th>Annual Income (k$)</th>\n",
       "      <th>Spending Score (1-100)</th>\n",
       "    </tr>\n",
       "  </thead>\n",
       "  <tbody>\n",
       "    <tr>\n",
       "      <th>0</th>\n",
       "      <td>1</td>\n",
       "      <td>1</td>\n",
       "      <td>19</td>\n",
       "      <td>15</td>\n",
       "      <td>39</td>\n",
       "    </tr>\n",
       "    <tr>\n",
       "      <th>1</th>\n",
       "      <td>2</td>\n",
       "      <td>1</td>\n",
       "      <td>21</td>\n",
       "      <td>15</td>\n",
       "      <td>20</td>\n",
       "    </tr>\n",
       "    <tr>\n",
       "      <th>2</th>\n",
       "      <td>3</td>\n",
       "      <td>0</td>\n",
       "      <td>20</td>\n",
       "      <td>16</td>\n",
       "      <td>6</td>\n",
       "    </tr>\n",
       "    <tr>\n",
       "      <th>3</th>\n",
       "      <td>4</td>\n",
       "      <td>0</td>\n",
       "      <td>23</td>\n",
       "      <td>16</td>\n",
       "      <td>20</td>\n",
       "    </tr>\n",
       "    <tr>\n",
       "      <th>4</th>\n",
       "      <td>5</td>\n",
       "      <td>0</td>\n",
       "      <td>31</td>\n",
       "      <td>17</td>\n",
       "      <td>40</td>\n",
       "    </tr>\n",
       "  </tbody>\n",
       "</table>\n",
       "</div>"
      ],
      "text/plain": [
       "   CustomerID  Gender  Age  Annual Income (k$)  Spending Score (1-100)\n",
       "0           1       1   19                  15                      39\n",
       "1           2       1   21                  15                      20\n",
       "2           3       0   20                  16                       6\n",
       "3           4       0   23                  16                      20\n",
       "4           5       0   31                  17                      40"
      ]
     },
     "execution_count": 52,
     "metadata": {},
     "output_type": "execute_result"
    }
   ],
   "source": [
    "from sklearn.preprocessing import LabelEncoder, OneHotEncoder\n",
    "le = LabelEncoder()\n",
    "oneh = OneHotEncoder()\n",
    "data['Gender'] = le.fit_transform(data['Gender'])\n",
    "data.head()"
   ]
  },
  {
   "cell_type": "code",
   "execution_count": 53,
   "metadata": {},
   "outputs": [
    {
     "data": {
      "text/html": [
       "<div>\n",
       "<style scoped>\n",
       "    .dataframe tbody tr th:only-of-type {\n",
       "        vertical-align: middle;\n",
       "    }\n",
       "\n",
       "    .dataframe tbody tr th {\n",
       "        vertical-align: top;\n",
       "    }\n",
       "\n",
       "    .dataframe thead th {\n",
       "        text-align: right;\n",
       "    }\n",
       "</style>\n",
       "<table border=\"1\" class=\"dataframe\">\n",
       "  <thead>\n",
       "    <tr style=\"text-align: right;\">\n",
       "      <th></th>\n",
       "      <th>CustomerID</th>\n",
       "      <th>Gender</th>\n",
       "      <th>Age</th>\n",
       "      <th>Annual Income (k$)</th>\n",
       "      <th>Spending Score (1-100)</th>\n",
       "    </tr>\n",
       "  </thead>\n",
       "  <tbody>\n",
       "    <tr>\n",
       "      <th>195</th>\n",
       "      <td>196</td>\n",
       "      <td>0</td>\n",
       "      <td>35</td>\n",
       "      <td>20</td>\n",
       "      <td>20</td>\n",
       "    </tr>\n",
       "    <tr>\n",
       "      <th>196</th>\n",
       "      <td>197</td>\n",
       "      <td>0</td>\n",
       "      <td>45</td>\n",
       "      <td>20</td>\n",
       "      <td>28</td>\n",
       "    </tr>\n",
       "    <tr>\n",
       "      <th>197</th>\n",
       "      <td>198</td>\n",
       "      <td>1</td>\n",
       "      <td>32</td>\n",
       "      <td>20</td>\n",
       "      <td>20</td>\n",
       "    </tr>\n",
       "    <tr>\n",
       "      <th>198</th>\n",
       "      <td>199</td>\n",
       "      <td>1</td>\n",
       "      <td>32</td>\n",
       "      <td>20</td>\n",
       "      <td>18</td>\n",
       "    </tr>\n",
       "    <tr>\n",
       "      <th>199</th>\n",
       "      <td>200</td>\n",
       "      <td>1</td>\n",
       "      <td>30</td>\n",
       "      <td>20</td>\n",
       "      <td>20</td>\n",
       "    </tr>\n",
       "  </tbody>\n",
       "</table>\n",
       "</div>"
      ],
      "text/plain": [
       "     CustomerID  Gender  Age  Annual Income (k$)  Spending Score (1-100)\n",
       "195         196       0   35                  20                      20\n",
       "196         197       0   45                  20                      28\n",
       "197         198       1   32                  20                      20\n",
       "198         199       1   32                  20                      18\n",
       "199         200       1   30                  20                      20"
      ]
     },
     "execution_count": 53,
     "metadata": {},
     "output_type": "execute_result"
    }
   ],
   "source": [
    "data.tail()"
   ]
  },
  {
   "cell_type": "markdown",
   "metadata": {},
   "source": [
    "## 8. Scaling the data "
   ]
  },
  {
   "cell_type": "code",
   "execution_count": 66,
   "metadata": {},
   "outputs": [],
   "source": [
    "from sklearn.preprocessing import MinMaxScaler\n",
    "from sklearn.preprocessing import LabelEncoder, OneHotEncoder\n",
    "le = LabelEncoder()\n",
    "oneh = OneHotEncoder()\n",
    "data['Gender'] = le.fit_transform(data['Gender'])\n",
    "mm = MinMaxScaler()\n",
    "x_scaled = mm.fit_transform(data)"
   ]
  },
  {
   "cell_type": "code",
   "execution_count": 68,
   "metadata": {
    "scrolled": true
   },
   "outputs": [
    {
     "data": {
      "text/plain": [
       "array([[1.        , 0.01923077, 0.        , 0.3877551 , 0.25      ],\n",
       "       [1.        , 0.05769231, 0.        , 0.81632653, 1.        ],\n",
       "       [0.        , 0.03846154, 0.00819672, 0.05102041, 0.25      ],\n",
       "       [0.        , 0.09615385, 0.00819672, 0.7755102 , 1.        ],\n",
       "       [0.        , 0.25      , 0.01639344, 0.39795918, 0.25      ],\n",
       "       [0.        , 0.07692308, 0.01639344, 0.76530612, 1.        ],\n",
       "       [0.        , 0.32692308, 0.02459016, 0.05102041, 0.25      ],\n",
       "       [0.        , 0.09615385, 0.02459016, 0.94897959, 1.        ],\n",
       "       [1.        , 0.88461538, 0.03278689, 0.02040816, 0.25      ],\n",
       "       [0.        , 0.23076923, 0.03278689, 0.7244898 , 1.        ],\n",
       "       [1.        , 0.94230769, 0.03278689, 0.13265306, 0.25      ],\n",
       "       [0.        , 0.32692308, 0.03278689, 1.        , 1.        ],\n",
       "       [0.        , 0.76923077, 0.04098361, 0.14285714, 0.25      ],\n",
       "       [0.        , 0.11538462, 0.04098361, 0.7755102 , 1.        ],\n",
       "       [1.        , 0.36538462, 0.04098361, 0.12244898, 0.25      ],\n",
       "       [1.        , 0.07692308, 0.04098361, 0.79591837, 1.        ],\n",
       "       [0.        , 0.32692308, 0.04918033, 0.34693878, 0.25      ],\n",
       "       [1.        , 0.03846154, 0.04918033, 0.66326531, 1.        ],\n",
       "       [1.        , 0.65384615, 0.06557377, 0.28571429, 0.25      ],\n",
       "       [0.        , 0.32692308, 0.06557377, 0.98979592, 1.        ],\n",
       "       [1.        , 0.32692308, 0.07377049, 0.34693878, 0.25      ],\n",
       "       [1.        , 0.13461538, 0.07377049, 0.73469388, 1.        ],\n",
       "       [0.        , 0.53846154, 0.08196721, 0.04081633, 0.25      ],\n",
       "       [1.        , 0.25      , 0.08196721, 0.73469388, 1.        ],\n",
       "       [0.        , 0.69230769, 0.10655738, 0.13265306, 0.25      ],\n",
       "       [1.        , 0.21153846, 0.10655738, 0.82653061, 1.        ],\n",
       "       [0.        , 0.51923077, 0.10655738, 0.31632653, 0.25      ],\n",
       "       [1.        , 0.32692308, 0.10655738, 0.6122449 , 1.        ],\n",
       "       [0.        , 0.42307692, 0.1147541 , 0.30612245, 0.25      ],\n",
       "       [0.        , 0.09615385, 0.1147541 , 0.87755102, 1.        ],\n",
       "       [1.        , 0.80769231, 0.12295082, 0.03061224, 0.25      ],\n",
       "       [0.        , 0.05769231, 0.12295082, 0.73469388, 1.        ],\n",
       "       [1.        , 0.67307692, 0.14754098, 0.03061224, 0.25      ],\n",
       "       [1.        , 0.        , 0.14754098, 0.92857143, 1.        ],\n",
       "       [0.        , 0.59615385, 0.14754098, 0.13265306, 0.25      ],\n",
       "       [0.        , 0.05769231, 0.14754098, 0.81632653, 1.        ],\n",
       "       [0.        , 0.46153846, 0.1557377 , 0.16326531, 0.25      ],\n",
       "       [0.        , 0.23076923, 0.1557377 , 0.73469388, 1.        ],\n",
       "       [0.        , 0.34615385, 0.18032787, 0.25510204, 0.25      ],\n",
       "       [0.        , 0.03846154, 0.18032787, 0.75510204, 1.        ],\n",
       "       [0.        , 0.90384615, 0.18852459, 0.34693878, 0.25      ],\n",
       "       [1.        , 0.11538462, 0.18852459, 0.92857143, 1.        ],\n",
       "       [1.        , 0.57692308, 0.19672131, 0.35714286, 0.25      ],\n",
       "       [0.        , 0.25      , 0.19672131, 0.6122449 , 1.        ],\n",
       "       [0.        , 0.59615385, 0.19672131, 0.2755102 , 0.25      ],\n",
       "       [0.        , 0.11538462, 0.19672131, 0.65306122, 1.        ],\n",
       "       [0.        , 0.61538462, 0.20491803, 0.55102041, 0.        ],\n",
       "       [0.        , 0.17307692, 0.20491803, 0.46938776, 0.        ],\n",
       "       [0.        , 0.21153846, 0.20491803, 0.41836735, 0.        ],\n",
       "       [0.        , 0.25      , 0.20491803, 0.41836735, 0.        ],\n",
       "       [0.        , 0.59615385, 0.22131148, 0.52040816, 0.        ],\n",
       "       [1.        , 0.28846154, 0.22131148, 0.60204082, 0.        ],\n",
       "       [0.        , 0.25      , 0.2295082 , 0.54081633, 0.        ],\n",
       "       [1.        , 0.78846154, 0.2295082 , 0.60204082, 0.        ],\n",
       "       [0.        , 0.61538462, 0.2295082 , 0.44897959, 0.        ],\n",
       "       [1.        , 0.55769231, 0.2295082 , 0.40816327, 0.        ],\n",
       "       [0.        , 0.63461538, 0.23770492, 0.5       , 0.        ],\n",
       "       [1.        , 0.98076923, 0.23770492, 0.45918367, 0.        ],\n",
       "       [0.        , 0.17307692, 0.25409836, 0.51020408, 0.        ],\n",
       "       [1.        , 0.67307692, 0.25409836, 0.45918367, 0.        ],\n",
       "       [1.        , 1.        , 0.25409836, 0.56122449, 0.        ],\n",
       "       [1.        , 0.01923077, 0.25409836, 0.55102041, 0.        ],\n",
       "       [0.        , 0.94230769, 0.26229508, 0.52040816, 0.        ],\n",
       "       [0.        , 0.69230769, 0.26229508, 0.59183673, 0.        ],\n",
       "       [1.        , 0.86538462, 0.2704918 , 0.51020408, 0.        ],\n",
       "       [1.        , 0.        , 0.2704918 , 0.59183673, 0.        ],\n",
       "       [0.        , 0.48076923, 0.2704918 , 0.5       , 0.        ],\n",
       "       [0.        , 0.96153846, 0.2704918 , 0.47959184, 0.        ],\n",
       "       [1.        , 0.01923077, 0.2704918 , 0.59183673, 0.        ],\n",
       "       [0.        , 0.26923077, 0.2704918 , 0.46938776, 0.        ],\n",
       "       [1.        , 1.        , 0.27868852, 0.55102041, 0.        ],\n",
       "       [0.        , 0.55769231, 0.27868852, 0.41836735, 0.        ],\n",
       "       [0.        , 0.80769231, 0.28688525, 0.48979592, 0.        ],\n",
       "       [0.        , 0.80769231, 0.28688525, 0.56122449, 0.        ],\n",
       "       [1.        , 0.78846154, 0.31967213, 0.46938776, 0.        ],\n",
       "       [1.        , 0.15384615, 0.31967213, 0.54081633, 0.        ],\n",
       "       [0.        , 0.51923077, 0.31967213, 0.53061224, 0.        ],\n",
       "       [1.        , 0.42307692, 0.31967213, 0.47959184, 0.        ],\n",
       "       [0.        , 0.09615385, 0.31967213, 0.52040816, 0.        ],\n",
       "       [0.        , 0.59615385, 0.31967213, 0.41836735, 0.        ],\n",
       "       [1.        , 0.75      , 0.31967213, 0.51020408, 0.        ],\n",
       "       [1.        , 0.38461538, 0.31967213, 0.55102041, 0.        ],\n",
       "       [1.        , 0.94230769, 0.31967213, 0.40816327, 0.        ],\n",
       "       [0.        , 0.53846154, 0.31967213, 0.43877551, 0.        ],\n",
       "       [0.        , 0.05769231, 0.31967213, 0.57142857, 0.        ],\n",
       "       [1.        , 0.57692308, 0.31967213, 0.45918367, 0.        ],\n",
       "       [0.        , 0.71153846, 0.3442623 , 0.58163265, 0.        ],\n",
       "       [0.        , 0.07692308, 0.3442623 , 0.55102041, 0.        ],\n",
       "       [0.        , 0.30769231, 0.35245902, 0.60204082, 0.        ],\n",
       "       [0.        , 0.61538462, 0.35245902, 0.45918367, 0.        ],\n",
       "       [0.        , 0.96153846, 0.36065574, 0.55102041, 0.        ],\n",
       "       [1.        , 0.        , 0.36065574, 0.40816327, 0.        ],\n",
       "       [1.        , 0.57692308, 0.36885246, 0.48979592, 0.        ],\n",
       "       [0.        , 0.42307692, 0.36885246, 0.39795918, 0.        ],\n",
       "       [0.        , 0.26923077, 0.36885246, 0.41836735, 0.        ],\n",
       "       [1.        , 0.11538462, 0.36885246, 0.52040816, 0.        ],\n",
       "       [0.        , 0.55769231, 0.36885246, 0.46938776, 0.        ],\n",
       "       [0.        , 0.17307692, 0.36885246, 0.5       , 0.        ],\n",
       "       [1.        , 0.57692308, 0.37704918, 0.41836735, 0.        ],\n",
       "       [1.        , 0.03846154, 0.37704918, 0.48979592, 0.        ],\n",
       "       [0.        , 0.09615385, 0.3852459 , 0.40816327, 0.        ],\n",
       "       [0.        , 0.59615385, 0.3852459 , 0.47959184, 0.        ],\n",
       "       [1.        , 0.94230769, 0.3852459 , 0.59183673, 0.        ],\n",
       "       [1.        , 0.15384615, 0.3852459 , 0.55102041, 0.        ],\n",
       "       [1.        , 0.59615385, 0.3852459 , 0.56122449, 0.        ],\n",
       "       [0.        , 0.05769231, 0.3852459 , 0.41836735, 0.        ],\n",
       "       [0.        , 0.92307692, 0.39344262, 0.5       , 0.        ],\n",
       "       [1.        , 0.69230769, 0.39344262, 0.45918367, 0.        ],\n",
       "       [1.        , 0.96153846, 0.39344262, 0.42857143, 0.        ],\n",
       "       [1.        , 0.92307692, 0.39344262, 0.47959184, 0.        ],\n",
       "       [1.        , 0.90384615, 0.39344262, 0.52040816, 0.        ],\n",
       "       [0.        , 0.01923077, 0.39344262, 0.54081633, 0.        ],\n",
       "       [0.        , 0.38461538, 0.40163934, 0.41836735, 0.        ],\n",
       "       [1.        , 0.01923077, 0.40163934, 0.45918367, 0.        ],\n",
       "       [0.        , 0.        , 0.40983607, 0.47959184, 0.        ],\n",
       "       [0.        , 0.01923077, 0.40983607, 0.5       , 0.        ],\n",
       "       [0.        , 0.86538462, 0.40983607, 0.42857143, 0.        ],\n",
       "       [0.        , 0.59615385, 0.40983607, 0.59183673, 0.        ],\n",
       "       [0.        , 0.63461538, 0.42622951, 0.42857143, 0.        ],\n",
       "       [0.        , 0.61538462, 0.42622951, 0.57142857, 0.        ],\n",
       "       [1.        , 0.17307692, 0.42622951, 0.56122449, 0.        ],\n",
       "       [0.        , 0.38461538, 0.42622951, 0.39795918, 0.        ],\n",
       "       [0.        , 0.42307692, 0.44262295, 0.58163265, 0.        ],\n",
       "       [1.        , 0.40384615, 0.44262295, 0.91836735, 0.75      ],\n",
       "       [0.        , 0.09615385, 0.45081967, 0.28571429, 0.5       ],\n",
       "       [0.        , 0.25      , 0.45081967, 0.7755102 , 0.75      ],\n",
       "       [1.        , 0.48076923, 0.45901639, 0.34693878, 0.        ],\n",
       "       [1.        , 0.42307692, 0.45901639, 0.95918367, 0.75      ],\n",
       "       [1.        , 0.78846154, 0.45901639, 0.10204082, 0.5       ],\n",
       "       [1.        , 0.38461538, 0.45901639, 0.75510204, 0.75      ],\n",
       "       [1.        , 0.55769231, 0.45901639, 0.08163265, 0.5       ],\n",
       "       [1.        , 0.40384615, 0.45901639, 0.75510204, 0.75      ],\n",
       "       [0.        , 0.13461538, 0.46721311, 0.33673469, 0.5       ],\n",
       "       [0.        , 0.25      , 0.46721311, 0.71428571, 0.75      ],\n",
       "       [1.        , 0.03846154, 0.47540984, 0.04081633, 0.5       ],\n",
       "       [0.        , 0.21153846, 0.47540984, 0.8877551 , 0.75      ],\n",
       "       [0.        , 0.5       , 0.47540984, 0.06122449, 0.5       ],\n",
       "       [1.        , 0.26923077, 0.47540984, 0.73469388, 0.75      ],\n",
       "       [1.        , 0.01923077, 0.48360656, 0.09183673, 0.5       ],\n",
       "       [0.        , 0.32692308, 0.48360656, 0.7244898 , 0.75      ],\n",
       "       [0.        , 0.75      , 0.49180328, 0.04081633, 0.5       ],\n",
       "       [1.        , 0.26923077, 0.49180328, 0.93877551, 0.75      ],\n",
       "       [0.        , 0.19230769, 0.5       , 0.39795918, 0.        ],\n",
       "       [0.        , 0.26923077, 0.5       , 0.87755102, 0.75      ],\n",
       "       [1.        , 0.13461538, 0.50819672, 0.1122449 , 0.5       ],\n",
       "       [1.        , 0.19230769, 0.50819672, 0.97959184, 0.75      ],\n",
       "       [1.        , 0.57692308, 0.50819672, 0.35714286, 0.5       ],\n",
       "       [0.        , 0.26923077, 0.50819672, 0.74489796, 0.75      ],\n",
       "       [0.        , 0.30769231, 0.51639344, 0.21428571, 0.5       ],\n",
       "       [1.        , 0.30769231, 0.51639344, 0.90816327, 0.75      ],\n",
       "       [1.        , 0.48076923, 0.51639344, 0.16326531, 0.5       ],\n",
       "       [1.        , 0.40384615, 0.51639344, 0.8877551 , 0.75      ],\n",
       "       [0.        , 0.5       , 0.51639344, 0.19387755, 0.5       ],\n",
       "       [0.        , 0.38461538, 0.51639344, 0.76530612, 0.75      ],\n",
       "       [0.        , 0.55769231, 0.51639344, 0.15306122, 0.5       ],\n",
       "       [0.        , 0.17307692, 0.51639344, 0.89795918, 0.75      ],\n",
       "       [1.        , 0.36538462, 0.51639344, 0.        , 0.5       ],\n",
       "       [0.        , 0.23076923, 0.51639344, 0.78571429, 0.75      ],\n",
       "       [1.        , 0.30769231, 0.51639344, 0.        , 0.5       ],\n",
       "       [0.        , 0.23076923, 0.51639344, 0.73469388, 0.75      ],\n",
       "       [0.        , 0.73076923, 0.52459016, 0.34693878, 0.5       ],\n",
       "       [0.        , 0.21153846, 0.52459016, 0.83673469, 0.75      ],\n",
       "       [1.        , 0.01923077, 0.54098361, 0.04081633, 0.5       ],\n",
       "       [0.        , 0.25      , 0.54098361, 0.93877551, 0.75      ],\n",
       "       [1.        , 0.61538462, 0.57377049, 0.25510204, 0.5       ],\n",
       "       [0.        , 0.34615385, 0.57377049, 0.75510204, 0.75      ],\n",
       "       [1.        , 0.46153846, 0.58196721, 0.19387755, 0.5       ],\n",
       "       [0.        , 0.28846154, 0.58196721, 0.95918367, 0.75      ],\n",
       "       [0.        , 0.34615385, 0.59016393, 0.26530612, 0.5       ],\n",
       "       [1.        , 0.26923077, 0.59016393, 0.63265306, 0.75      ],\n",
       "       [1.        , 0.42307692, 0.59016393, 0.12244898, 0.5       ],\n",
       "       [1.        , 0.19230769, 0.59016393, 0.75510204, 0.75      ],\n",
       "       [1.        , 0.34615385, 0.59016393, 0.09183673, 0.5       ],\n",
       "       [1.        , 0.34615385, 0.59016393, 0.92857143, 0.75      ],\n",
       "       [0.        , 0.65384615, 0.59836066, 0.12244898, 0.5       ],\n",
       "       [0.        , 0.23076923, 0.59836066, 0.86734694, 0.75      ],\n",
       "       [1.        , 0.76923077, 0.59836066, 0.14285714, 0.5       ],\n",
       "       [1.        , 0.17307692, 0.59836066, 0.69387755, 0.75      ],\n",
       "       [1.        , 0.78846154, 0.63934426, 0.13265306, 0.5       ],\n",
       "       [1.        , 0.32692308, 0.63934426, 0.90816327, 0.75      ],\n",
       "       [0.        , 0.36538462, 0.67213115, 0.31632653, 0.5       ],\n",
       "       [0.        , 0.26923077, 0.67213115, 0.86734694, 0.75      ],\n",
       "       [1.        , 0.53846154, 0.68032787, 0.14285714, 0.5       ],\n",
       "       [0.        , 0.21153846, 0.68032787, 0.8877551 , 0.75      ],\n",
       "       [0.        , 0.44230769, 0.68852459, 0.3877551 , 0.5       ],\n",
       "       [1.        , 0.23076923, 0.68852459, 0.97959184, 0.75      ],\n",
       "       [0.        , 0.69230769, 0.70491803, 0.23469388, 0.5       ],\n",
       "       [1.        , 0.19230769, 0.70491803, 0.68367347, 0.75      ],\n",
       "       [0.        , 0.44230769, 0.72131148, 0.16326531, 0.5       ],\n",
       "       [0.        , 0.34615385, 0.72131148, 0.85714286, 0.75      ],\n",
       "       [0.        , 0.30769231, 0.72131148, 0.2244898 , 0.5       ],\n",
       "       [0.        , 0.26923077, 0.72131148, 0.69387755, 0.75      ],\n",
       "       [1.        , 0.28846154, 0.80327869, 0.07142857, 0.5       ],\n",
       "       [0.        , 0.38461538, 0.80327869, 0.91836735, 0.75      ],\n",
       "       [0.        , 0.55769231, 0.86065574, 0.15306122, 0.5       ],\n",
       "       [0.        , 0.32692308, 0.86065574, 0.79591837, 0.75      ],\n",
       "       [0.        , 0.51923077, 0.90983607, 0.2755102 , 0.5       ],\n",
       "       [1.        , 0.26923077, 0.90983607, 0.74489796, 0.75      ],\n",
       "       [1.        , 0.26923077, 1.        , 0.17346939, 0.5       ],\n",
       "       [1.        , 0.23076923, 1.        , 0.83673469, 0.75      ]])"
      ]
     },
     "execution_count": 68,
     "metadata": {},
     "output_type": "execute_result"
    }
   ],
   "source": [
    "x_scaled"
   ]
  },
  {
   "cell_type": "markdown",
   "metadata": {},
   "source": [
    "## 9. Perform any of the clustering algorithms"
   ]
  },
  {
   "cell_type": "code",
   "execution_count": 69,
   "metadata": {},
   "outputs": [],
   "source": [
    "from sklearn.cluster import KMeans\n",
    "km = KMeans()\n",
    "clus = km.fit_predict(x_scaled)"
   ]
  },
  {
   "cell_type": "code",
   "execution_count": 70,
   "metadata": {
    "scrolled": true
   },
   "outputs": [
    {
     "data": {
      "text/plain": [
       "array([4, 3, 6, 2, 6, 2, 6, 2, 7, 2, 7, 2, 0, 2, 4, 3, 6, 3, 7, 2, 4, 3,\n",
       "       0, 3, 0, 3, 0, 3, 6, 2, 7, 2, 7, 3, 0, 2, 0, 2, 6, 2, 0, 3, 7, 2,\n",
       "       0, 2, 0, 6, 6, 6, 0, 4, 6, 7, 0, 7, 0, 7, 6, 7, 7, 4, 0, 0, 7, 4,\n",
       "       0, 0, 4, 6, 7, 0, 0, 0, 7, 4, 0, 4, 6, 0, 7, 4, 7, 0, 6, 7, 0, 6,\n",
       "       6, 0, 0, 4, 7, 6, 6, 4, 0, 6, 7, 4, 6, 0, 7, 4, 7, 6, 0, 7, 7, 7,\n",
       "       7, 6, 6, 4, 6, 6, 0, 0, 0, 0, 4, 6, 6, 3, 5, 2, 7, 3, 1, 3, 1, 3,\n",
       "       5, 2, 1, 2, 5, 3, 1, 2, 5, 3, 6, 2, 1, 3, 1, 2, 5, 3, 1, 3, 5, 2,\n",
       "       5, 2, 1, 2, 1, 2, 5, 2, 1, 2, 1, 2, 1, 2, 5, 3, 1, 3, 1, 3, 5, 2,\n",
       "       1, 3, 1, 3, 5, 2, 1, 2, 5, 3, 5, 3, 5, 2, 5, 2, 1, 2, 5, 2, 5, 3,\n",
       "       1, 3])"
      ]
     },
     "execution_count": 70,
     "metadata": {},
     "output_type": "execute_result"
    }
   ],
   "source": [
    "clus"
   ]
  },
  {
   "cell_type": "code",
   "execution_count": 71,
   "metadata": {},
   "outputs": [],
   "source": [
    "names = data.columns"
   ]
  },
  {
   "cell_type": "code",
   "execution_count": 72,
   "metadata": {},
   "outputs": [
    {
     "data": {
      "text/plain": [
       "Index(['Gender', 'Age', 'Annual Income (k$)', 'Spending Score (1-100)',\n",
       "       'label'],\n",
       "      dtype='object')"
      ]
     },
     "execution_count": 72,
     "metadata": {},
     "output_type": "execute_result"
    }
   ],
   "source": [
    "names"
   ]
  },
  {
   "cell_type": "code",
   "execution_count": 73,
   "metadata": {},
   "outputs": [],
   "source": [
    "datal = pd.DataFrame(x_scaled, columns=names)"
   ]
  },
  {
   "cell_type": "code",
   "execution_count": 74,
   "metadata": {},
   "outputs": [
    {
     "data": {
      "text/html": [
       "<div>\n",
       "<style scoped>\n",
       "    .dataframe tbody tr th:only-of-type {\n",
       "        vertical-align: middle;\n",
       "    }\n",
       "\n",
       "    .dataframe tbody tr th {\n",
       "        vertical-align: top;\n",
       "    }\n",
       "\n",
       "    .dataframe thead th {\n",
       "        text-align: right;\n",
       "    }\n",
       "</style>\n",
       "<table border=\"1\" class=\"dataframe\">\n",
       "  <thead>\n",
       "    <tr style=\"text-align: right;\">\n",
       "      <th></th>\n",
       "      <th>Gender</th>\n",
       "      <th>Age</th>\n",
       "      <th>Annual Income (k$)</th>\n",
       "      <th>Spending Score (1-100)</th>\n",
       "      <th>label</th>\n",
       "    </tr>\n",
       "  </thead>\n",
       "  <tbody>\n",
       "    <tr>\n",
       "      <th>0</th>\n",
       "      <td>1.0</td>\n",
       "      <td>0.019231</td>\n",
       "      <td>0.000000</td>\n",
       "      <td>0.387755</td>\n",
       "      <td>0.25</td>\n",
       "    </tr>\n",
       "    <tr>\n",
       "      <th>1</th>\n",
       "      <td>1.0</td>\n",
       "      <td>0.057692</td>\n",
       "      <td>0.000000</td>\n",
       "      <td>0.816327</td>\n",
       "      <td>1.00</td>\n",
       "    </tr>\n",
       "    <tr>\n",
       "      <th>2</th>\n",
       "      <td>0.0</td>\n",
       "      <td>0.038462</td>\n",
       "      <td>0.008197</td>\n",
       "      <td>0.051020</td>\n",
       "      <td>0.25</td>\n",
       "    </tr>\n",
       "    <tr>\n",
       "      <th>3</th>\n",
       "      <td>0.0</td>\n",
       "      <td>0.096154</td>\n",
       "      <td>0.008197</td>\n",
       "      <td>0.775510</td>\n",
       "      <td>1.00</td>\n",
       "    </tr>\n",
       "    <tr>\n",
       "      <th>4</th>\n",
       "      <td>0.0</td>\n",
       "      <td>0.250000</td>\n",
       "      <td>0.016393</td>\n",
       "      <td>0.397959</td>\n",
       "      <td>0.25</td>\n",
       "    </tr>\n",
       "  </tbody>\n",
       "</table>\n",
       "</div>"
      ],
      "text/plain": [
       "   Gender       Age  Annual Income (k$)  Spending Score (1-100)  label\n",
       "0     1.0  0.019231            0.000000                0.387755   0.25\n",
       "1     1.0  0.057692            0.000000                0.816327   1.00\n",
       "2     0.0  0.038462            0.008197                0.051020   0.25\n",
       "3     0.0  0.096154            0.008197                0.775510   1.00\n",
       "4     0.0  0.250000            0.016393                0.397959   0.25"
      ]
     },
     "execution_count": 74,
     "metadata": {},
     "output_type": "execute_result"
    }
   ],
   "source": [
    "datal.head()"
   ]
  },
  {
   "cell_type": "markdown",
   "metadata": {},
   "source": [
    "## 10. Add the cluster data with the primary dataset "
   ]
  },
  {
   "cell_type": "code",
   "execution_count": 79,
   "metadata": {},
   "outputs": [],
   "source": [
    "datal['kclus'] = pd.Series(clus)"
   ]
  },
  {
   "cell_type": "code",
   "execution_count": 80,
   "metadata": {},
   "outputs": [
    {
     "data": {
      "text/html": [
       "<div>\n",
       "<style scoped>\n",
       "    .dataframe tbody tr th:only-of-type {\n",
       "        vertical-align: middle;\n",
       "    }\n",
       "\n",
       "    .dataframe tbody tr th {\n",
       "        vertical-align: top;\n",
       "    }\n",
       "\n",
       "    .dataframe thead th {\n",
       "        text-align: right;\n",
       "    }\n",
       "</style>\n",
       "<table border=\"1\" class=\"dataframe\">\n",
       "  <thead>\n",
       "    <tr style=\"text-align: right;\">\n",
       "      <th></th>\n",
       "      <th>Gender</th>\n",
       "      <th>Age</th>\n",
       "      <th>Annual Income (k$)</th>\n",
       "      <th>Spending Score (1-100)</th>\n",
       "      <th>label</th>\n",
       "      <th>kclus</th>\n",
       "    </tr>\n",
       "  </thead>\n",
       "  <tbody>\n",
       "    <tr>\n",
       "      <th>0</th>\n",
       "      <td>1.0</td>\n",
       "      <td>0.019231</td>\n",
       "      <td>0.000000</td>\n",
       "      <td>0.387755</td>\n",
       "      <td>0.25</td>\n",
       "      <td>4</td>\n",
       "    </tr>\n",
       "    <tr>\n",
       "      <th>1</th>\n",
       "      <td>1.0</td>\n",
       "      <td>0.057692</td>\n",
       "      <td>0.000000</td>\n",
       "      <td>0.816327</td>\n",
       "      <td>1.00</td>\n",
       "      <td>3</td>\n",
       "    </tr>\n",
       "    <tr>\n",
       "      <th>2</th>\n",
       "      <td>0.0</td>\n",
       "      <td>0.038462</td>\n",
       "      <td>0.008197</td>\n",
       "      <td>0.051020</td>\n",
       "      <td>0.25</td>\n",
       "      <td>6</td>\n",
       "    </tr>\n",
       "    <tr>\n",
       "      <th>3</th>\n",
       "      <td>0.0</td>\n",
       "      <td>0.096154</td>\n",
       "      <td>0.008197</td>\n",
       "      <td>0.775510</td>\n",
       "      <td>1.00</td>\n",
       "      <td>2</td>\n",
       "    </tr>\n",
       "    <tr>\n",
       "      <th>4</th>\n",
       "      <td>0.0</td>\n",
       "      <td>0.250000</td>\n",
       "      <td>0.016393</td>\n",
       "      <td>0.397959</td>\n",
       "      <td>0.25</td>\n",
       "      <td>6</td>\n",
       "    </tr>\n",
       "  </tbody>\n",
       "</table>\n",
       "</div>"
      ],
      "text/plain": [
       "   Gender       Age  Annual Income (k$)  Spending Score (1-100)  label  kclus\n",
       "0     1.0  0.019231            0.000000                0.387755   0.25      4\n",
       "1     1.0  0.057692            0.000000                0.816327   1.00      3\n",
       "2     0.0  0.038462            0.008197                0.051020   0.25      6\n",
       "3     0.0  0.096154            0.008197                0.775510   1.00      2\n",
       "4     0.0  0.250000            0.016393                0.397959   0.25      6"
      ]
     },
     "execution_count": 80,
     "metadata": {},
     "output_type": "execute_result"
    }
   ],
   "source": [
    "datal.head()"
   ]
  },
  {
   "cell_type": "markdown",
   "metadata": {},
   "source": [
    "## 11. Split the data into dependent and independent variables. "
   ]
  },
  {
   "cell_type": "code",
   "execution_count": 83,
   "metadata": {},
   "outputs": [
    {
     "data": {
      "text/html": [
       "<div>\n",
       "<style scoped>\n",
       "    .dataframe tbody tr th:only-of-type {\n",
       "        vertical-align: middle;\n",
       "    }\n",
       "\n",
       "    .dataframe tbody tr th {\n",
       "        vertical-align: top;\n",
       "    }\n",
       "\n",
       "    .dataframe thead th {\n",
       "        text-align: right;\n",
       "    }\n",
       "</style>\n",
       "<table border=\"1\" class=\"dataframe\">\n",
       "  <thead>\n",
       "    <tr style=\"text-align: right;\">\n",
       "      <th></th>\n",
       "      <th>Gender</th>\n",
       "      <th>Age</th>\n",
       "      <th>Annual Income (k$)</th>\n",
       "      <th>Spending Score (1-100)</th>\n",
       "      <th>label</th>\n",
       "    </tr>\n",
       "  </thead>\n",
       "  <tbody>\n",
       "    <tr>\n",
       "      <th>0</th>\n",
       "      <td>1.0</td>\n",
       "      <td>0.019231</td>\n",
       "      <td>0.000000</td>\n",
       "      <td>0.387755</td>\n",
       "      <td>0.25</td>\n",
       "    </tr>\n",
       "    <tr>\n",
       "      <th>1</th>\n",
       "      <td>1.0</td>\n",
       "      <td>0.057692</td>\n",
       "      <td>0.000000</td>\n",
       "      <td>0.816327</td>\n",
       "      <td>1.00</td>\n",
       "    </tr>\n",
       "    <tr>\n",
       "      <th>2</th>\n",
       "      <td>0.0</td>\n",
       "      <td>0.038462</td>\n",
       "      <td>0.008197</td>\n",
       "      <td>0.051020</td>\n",
       "      <td>0.25</td>\n",
       "    </tr>\n",
       "    <tr>\n",
       "      <th>3</th>\n",
       "      <td>0.0</td>\n",
       "      <td>0.096154</td>\n",
       "      <td>0.008197</td>\n",
       "      <td>0.775510</td>\n",
       "      <td>1.00</td>\n",
       "    </tr>\n",
       "    <tr>\n",
       "      <th>4</th>\n",
       "      <td>0.0</td>\n",
       "      <td>0.250000</td>\n",
       "      <td>0.016393</td>\n",
       "      <td>0.397959</td>\n",
       "      <td>0.25</td>\n",
       "    </tr>\n",
       "  </tbody>\n",
       "</table>\n",
       "</div>"
      ],
      "text/plain": [
       "   Gender       Age  Annual Income (k$)  Spending Score (1-100)  label\n",
       "0     1.0  0.019231            0.000000                0.387755   0.25\n",
       "1     1.0  0.057692            0.000000                0.816327   1.00\n",
       "2     0.0  0.038462            0.008197                0.051020   0.25\n",
       "3     0.0  0.096154            0.008197                0.775510   1.00\n",
       "4     0.0  0.250000            0.016393                0.397959   0.25"
      ]
     },
     "execution_count": 83,
     "metadata": {},
     "output_type": "execute_result"
    }
   ],
   "source": [
    "x = datal.iloc[0:5, 0:5]\n",
    "x"
   ]
  },
  {
   "cell_type": "code",
   "execution_count": 84,
   "metadata": {
    "scrolled": true
   },
   "outputs": [
    {
     "data": {
      "text/plain": [
       "0      4\n",
       "1      3\n",
       "2      6\n",
       "3      2\n",
       "4      6\n",
       "5      2\n",
       "6      6\n",
       "7      2\n",
       "8      7\n",
       "9      2\n",
       "10     7\n",
       "11     2\n",
       "12     0\n",
       "13     2\n",
       "14     4\n",
       "15     3\n",
       "16     6\n",
       "17     3\n",
       "18     7\n",
       "19     2\n",
       "20     4\n",
       "21     3\n",
       "22     0\n",
       "23     3\n",
       "24     0\n",
       "25     3\n",
       "26     0\n",
       "27     3\n",
       "28     6\n",
       "29     2\n",
       "      ..\n",
       "170    1\n",
       "171    3\n",
       "172    1\n",
       "173    3\n",
       "174    5\n",
       "175    2\n",
       "176    1\n",
       "177    3\n",
       "178    1\n",
       "179    3\n",
       "180    5\n",
       "181    2\n",
       "182    1\n",
       "183    2\n",
       "184    5\n",
       "185    3\n",
       "186    5\n",
       "187    3\n",
       "188    5\n",
       "189    2\n",
       "190    5\n",
       "191    2\n",
       "192    1\n",
       "193    2\n",
       "194    5\n",
       "195    2\n",
       "196    5\n",
       "197    3\n",
       "198    1\n",
       "199    3\n",
       "Name: kclus, Length: 200, dtype: int32"
      ]
     },
     "execution_count": 84,
     "metadata": {},
     "output_type": "execute_result"
    }
   ],
   "source": [
    "y=datal['kclus']\n",
    "y"
   ]
  },
  {
   "cell_type": "markdown",
   "metadata": {},
   "source": [
    "## 12. Split the data into training and testing "
   ]
  },
  {
   "cell_type": "code",
   "execution_count": 85,
   "metadata": {},
   "outputs": [],
   "source": [
    "from sklearn.model_selection import train_test_split\n",
    "x_train, x_test, y_train, y_test = train_test_split(x_scaled, y, test_size = 0.3, random_state = 0)"
   ]
  },
  {
   "cell_type": "code",
   "execution_count": 86,
   "metadata": {},
   "outputs": [
    {
     "data": {
      "text/plain": [
       "array([[1.        , 0.40384615, 0.45901639, 0.75510204, 0.75      ],\n",
       "       [0.        , 0.55769231, 0.36885246, 0.46938776, 0.        ],\n",
       "       [0.        , 0.26923077, 0.67213115, 0.86734694, 0.75      ],\n",
       "       [0.        , 0.32692308, 0.06557377, 0.98979592, 1.        ],\n",
       "       [0.        , 0.38461538, 0.51639344, 0.76530612, 0.75      ],\n",
       "       [1.        , 0.57692308, 0.36885246, 0.48979592, 0.        ],\n",
       "       [0.        , 0.61538462, 0.2295082 , 0.44897959, 0.        ],\n",
       "       [0.        , 0.25      , 0.54098361, 0.93877551, 0.75      ],\n",
       "       [1.        , 0.28846154, 0.22131148, 0.60204082, 0.        ],\n",
       "       [0.        , 0.71153846, 0.3442623 , 0.58163265, 0.        ],\n",
       "       [0.        , 0.32692308, 0.48360656, 0.7244898 , 0.75      ],\n",
       "       [0.        , 0.96153846, 0.36065574, 0.55102041, 0.        ],\n",
       "       [1.        , 0.26923077, 0.47540984, 0.73469388, 0.75      ],\n",
       "       [0.        , 0.59615385, 0.3852459 , 0.47959184, 0.        ],\n",
       "       [1.        , 0.13461538, 0.50819672, 0.1122449 , 0.5       ],\n",
       "       [0.        , 0.61538462, 0.35245902, 0.45918367, 0.        ],\n",
       "       [1.        , 0.92307692, 0.39344262, 0.47959184, 0.        ],\n",
       "       [1.        , 0.36538462, 0.04098361, 0.12244898, 0.25      ],\n",
       "       [1.        , 0.32692308, 0.10655738, 0.6122449 , 1.        ],\n",
       "       [1.        , 0.26923077, 0.49180328, 0.93877551, 0.75      ],\n",
       "       [1.        , 0.19230769, 0.70491803, 0.68367347, 0.75      ],\n",
       "       [0.        , 0.61538462, 0.20491803, 0.55102041, 0.        ],\n",
       "       [1.        , 0.01923077, 0.48360656, 0.09183673, 0.5       ],\n",
       "       [0.        , 0.32692308, 0.86065574, 0.79591837, 0.75      ],\n",
       "       [1.        , 0.96153846, 0.39344262, 0.42857143, 0.        ],\n",
       "       [0.        , 0.94230769, 0.26229508, 0.52040816, 0.        ],\n",
       "       [0.        , 0.03846154, 0.00819672, 0.05102041, 0.25      ],\n",
       "       [1.        , 0.67307692, 0.25409836, 0.45918367, 0.        ],\n",
       "       [0.        , 0.5       , 0.47540984, 0.06122449, 0.5       ],\n",
       "       [1.        , 0.26923077, 0.90983607, 0.74489796, 0.75      ],\n",
       "       [0.        , 0.25      , 0.19672131, 0.6122449 , 1.        ],\n",
       "       [1.        , 0.94230769, 0.03278689, 0.13265306, 0.25      ],\n",
       "       [0.        , 0.55769231, 0.86065574, 0.15306122, 0.5       ],\n",
       "       [0.        , 0.80769231, 0.28688525, 0.56122449, 0.        ],\n",
       "       [0.        , 0.51923077, 0.90983607, 0.2755102 , 0.5       ],\n",
       "       [1.        , 0.78846154, 0.63934426, 0.13265306, 0.5       ],\n",
       "       [0.        , 0.23076923, 0.59836066, 0.86734694, 0.75      ],\n",
       "       [1.        , 0.48076923, 0.45901639, 0.34693878, 0.        ],\n",
       "       [0.        , 0.42307692, 0.36885246, 0.39795918, 0.        ],\n",
       "       [0.        , 0.38461538, 0.40163934, 0.41836735, 0.        ],\n",
       "       [1.        , 0.30769231, 0.51639344, 0.        , 0.5       ],\n",
       "       [0.        , 0.26923077, 0.72131148, 0.69387755, 0.75      ],\n",
       "       [0.        , 0.59615385, 0.22131148, 0.52040816, 0.        ],\n",
       "       [1.        , 0.01923077, 0.        , 0.3877551 , 0.25      ],\n",
       "       [0.        , 0.26923077, 0.36885246, 0.41836735, 0.        ],\n",
       "       [1.        , 0.90384615, 0.39344262, 0.52040816, 0.        ],\n",
       "       [1.        , 0.11538462, 0.36885246, 0.52040816, 0.        ],\n",
       "       [1.        , 0.86538462, 0.2704918 , 0.51020408, 0.        ],\n",
       "       [0.        , 0.28846154, 0.58196721, 0.95918367, 0.75      ],\n",
       "       [1.        , 0.11538462, 0.18852459, 0.92857143, 1.        ],\n",
       "       [0.        , 0.26923077, 0.2704918 , 0.46938776, 0.        ],\n",
       "       [0.        , 0.25      , 0.20491803, 0.41836735, 0.        ],\n",
       "       [0.        , 0.21153846, 0.20491803, 0.41836735, 0.        ],\n",
       "       [1.        , 0.57692308, 0.31967213, 0.45918367, 0.        ],\n",
       "       [0.        , 0.11538462, 0.04098361, 0.7755102 , 1.        ],\n",
       "       [0.        , 0.21153846, 0.52459016, 0.83673469, 0.75      ],\n",
       "       [1.        , 0.25      , 0.08196721, 0.73469388, 1.        ],\n",
       "       [0.        , 0.69230769, 0.70491803, 0.23469388, 0.5       ],\n",
       "       [0.        , 0.21153846, 0.47540984, 0.8877551 , 0.75      ],\n",
       "       [1.        , 0.32692308, 0.07377049, 0.34693878, 0.25      ],\n",
       "       [1.        , 0.07692308, 0.04098361, 0.79591837, 1.        ],\n",
       "       [0.        , 0.09615385, 0.31967213, 0.52040816, 0.        ],\n",
       "       [1.        , 0.59615385, 0.3852459 , 0.56122449, 0.        ],\n",
       "       [0.        , 0.25      , 0.2295082 , 0.54081633, 0.        ],\n",
       "       [0.        , 0.09615385, 0.3852459 , 0.40816327, 0.        ],\n",
       "       [0.        , 0.51923077, 0.31967213, 0.53061224, 0.        ],\n",
       "       [0.        , 0.09615385, 0.00819672, 0.7755102 , 1.        ],\n",
       "       [0.        , 0.86538462, 0.40983607, 0.42857143, 0.        ],\n",
       "       [1.        , 0.61538462, 0.57377049, 0.25510204, 0.5       ],\n",
       "       [1.        , 0.26923077, 1.        , 0.17346939, 0.5       ],\n",
       "       [0.        , 0.32692308, 0.02459016, 0.05102041, 0.25      ],\n",
       "       [1.        , 0.01923077, 0.2704918 , 0.59183673, 0.        ],\n",
       "       [0.        , 0.05769231, 0.31967213, 0.57142857, 0.        ],\n",
       "       [0.        , 0.38461538, 0.42622951, 0.39795918, 0.        ],\n",
       "       [0.        , 0.17307692, 0.51639344, 0.89795918, 0.75      ],\n",
       "       [1.        , 0.19230769, 0.59016393, 0.75510204, 0.75      ],\n",
       "       [1.        , 0.36538462, 0.51639344, 0.        , 0.5       ],\n",
       "       [1.        , 0.        , 0.36065574, 0.40816327, 0.        ],\n",
       "       [1.        , 0.23076923, 1.        , 0.83673469, 0.75      ],\n",
       "       [0.        , 0.32692308, 0.03278689, 1.        , 1.        ],\n",
       "       [0.        , 0.61538462, 0.42622951, 0.57142857, 0.        ],\n",
       "       [1.        , 0.94230769, 0.3852459 , 0.59183673, 0.        ],\n",
       "       [0.        , 0.05769231, 0.14754098, 0.81632653, 1.        ],\n",
       "       [1.        , 0.98076923, 0.23770492, 0.45918367, 0.        ],\n",
       "       [1.        , 0.        , 0.2704918 , 0.59183673, 0.        ],\n",
       "       [1.        , 0.05769231, 0.        , 0.81632653, 1.        ],\n",
       "       [1.        , 0.17307692, 0.42622951, 0.56122449, 0.        ],\n",
       "       [1.        , 0.01923077, 0.54098361, 0.04081633, 0.5       ],\n",
       "       [1.        , 0.57692308, 0.19672131, 0.35714286, 0.25      ],\n",
       "       [0.        , 0.05769231, 0.3852459 , 0.41836735, 0.        ],\n",
       "       [0.        , 0.13461538, 0.46721311, 0.33673469, 0.5       ],\n",
       "       [1.        , 0.34615385, 0.59016393, 0.92857143, 0.75      ],\n",
       "       [1.        , 0.03846154, 0.04918033, 0.66326531, 1.        ],\n",
       "       [0.        , 0.34615385, 0.18032787, 0.25510204, 0.25      ],\n",
       "       [0.        , 0.25      , 0.46721311, 0.71428571, 0.75      ],\n",
       "       [1.        , 0.78846154, 0.2295082 , 0.60204082, 0.        ],\n",
       "       [0.        , 0.23076923, 0.51639344, 0.78571429, 0.75      ],\n",
       "       [1.        , 0.78846154, 0.45901639, 0.10204082, 0.5       ],\n",
       "       [0.        , 0.59615385, 0.14754098, 0.13265306, 0.25      ],\n",
       "       [0.        , 0.42307692, 0.1147541 , 0.30612245, 0.25      ],\n",
       "       [0.        , 0.        , 0.40983607, 0.47959184, 0.        ],\n",
       "       [1.        , 0.40384615, 0.51639344, 0.8877551 , 0.75      ],\n",
       "       [0.        , 0.05769231, 0.12295082, 0.73469388, 1.        ],\n",
       "       [1.        , 0.46153846, 0.58196721, 0.19387755, 0.5       ],\n",
       "       [1.        , 0.42307692, 0.45901639, 0.95918367, 0.75      ],\n",
       "       [1.        , 0.76923077, 0.59836066, 0.14285714, 0.5       ],\n",
       "       [1.        , 0.67307692, 0.14754098, 0.03061224, 0.25      ],\n",
       "       [0.        , 0.19230769, 0.5       , 0.39795918, 0.        ],\n",
       "       [1.        , 0.26923077, 0.59016393, 0.63265306, 0.75      ],\n",
       "       [0.        , 0.26923077, 0.50819672, 0.74489796, 0.75      ],\n",
       "       [0.        , 0.09615385, 0.1147541 , 0.87755102, 1.        ],\n",
       "       [1.        , 0.03846154, 0.37704918, 0.48979592, 0.        ],\n",
       "       [1.        , 0.94230769, 0.31967213, 0.40816327, 0.        ],\n",
       "       [0.        , 0.59615385, 0.31967213, 0.41836735, 0.        ],\n",
       "       [0.        , 0.01923077, 0.40983607, 0.5       , 0.        ],\n",
       "       [0.        , 0.30769231, 0.51639344, 0.21428571, 0.5       ],\n",
       "       [0.        , 0.38461538, 0.80327869, 0.91836735, 0.75      ],\n",
       "       [0.        , 0.80769231, 0.28688525, 0.48979592, 0.        ],\n",
       "       [1.        , 0.42307692, 0.31967213, 0.47959184, 0.        ],\n",
       "       [1.        , 0.21153846, 0.10655738, 0.82653061, 1.        ],\n",
       "       [0.        , 0.34615385, 0.57377049, 0.75510204, 0.75      ],\n",
       "       [1.        , 0.38461538, 0.31967213, 0.55102041, 0.        ],\n",
       "       [0.        , 0.44230769, 0.72131148, 0.16326531, 0.5       ],\n",
       "       [0.        , 0.65384615, 0.59836066, 0.12244898, 0.5       ],\n",
       "       [0.        , 0.30769231, 0.72131148, 0.2244898 , 0.5       ],\n",
       "       [0.        , 0.03846154, 0.18032787, 0.75510204, 1.        ],\n",
       "       [0.        , 0.17307692, 0.25409836, 0.51020408, 0.        ],\n",
       "       [0.        , 0.75      , 0.49180328, 0.04081633, 0.5       ],\n",
       "       [0.        , 0.30769231, 0.35245902, 0.60204082, 0.        ],\n",
       "       [1.        , 1.        , 0.27868852, 0.55102041, 0.        ],\n",
       "       [0.        , 0.07692308, 0.3442623 , 0.55102041, 0.        ],\n",
       "       [0.        , 0.46153846, 0.1557377 , 0.16326531, 0.25      ],\n",
       "       [1.        , 0.13461538, 0.07377049, 0.73469388, 1.        ],\n",
       "       [0.        , 0.23076923, 0.03278689, 0.7244898 , 1.        ],\n",
       "       [1.        , 0.15384615, 0.3852459 , 0.55102041, 0.        ],\n",
       "       [0.        , 0.96153846, 0.2704918 , 0.47959184, 0.        ],\n",
       "       [1.        , 0.28846154, 0.80327869, 0.07142857, 0.5       ],\n",
       "       [0.        , 0.59615385, 0.40983607, 0.59183673, 0.        ],\n",
       "       [0.        , 0.17307692, 0.20491803, 0.46938776, 0.        ],\n",
       "       [1.        , 0.34615385, 0.59016393, 0.09183673, 0.5       ]])"
      ]
     },
     "execution_count": 86,
     "metadata": {},
     "output_type": "execute_result"
    }
   ],
   "source": [
    "x_train"
   ]
  },
  {
   "cell_type": "code",
   "execution_count": 87,
   "metadata": {},
   "outputs": [
    {
     "data": {
      "text/plain": [
       "(140, 5)"
      ]
     },
     "execution_count": 87,
     "metadata": {},
     "output_type": "execute_result"
    }
   ],
   "source": [
    "x_train.shape"
   ]
  },
  {
   "cell_type": "code",
   "execution_count": 88,
   "metadata": {
    "scrolled": true
   },
   "outputs": [
    {
     "data": {
      "text/plain": [
       "array([[1.        , 0.65384615, 0.06557377, 0.28571429, 0.25      ],\n",
       "       [1.        , 0.42307692, 0.59016393, 0.12244898, 0.5       ],\n",
       "       [1.        , 0.69230769, 0.39344262, 0.45918367, 0.        ],\n",
       "       [1.        , 0.57692308, 0.37704918, 0.41836735, 0.        ],\n",
       "       [1.        , 0.17307692, 0.59836066, 0.69387755, 0.75      ],\n",
       "       [1.        , 0.53846154, 0.68032787, 0.14285714, 0.5       ],\n",
       "       [0.        , 0.07692308, 0.01639344, 0.76530612, 1.        ],\n",
       "       [1.        , 0.57692308, 0.50819672, 0.35714286, 0.5       ],\n",
       "       [0.        , 0.76923077, 0.04098361, 0.14285714, 0.25      ],\n",
       "       [0.        , 0.5       , 0.51639344, 0.19387755, 0.5       ],\n",
       "       [1.        , 0.01923077, 0.25409836, 0.55102041, 0.        ],\n",
       "       [0.        , 0.25      , 0.45081967, 0.7755102 , 0.75      ],\n",
       "       [0.        , 0.36538462, 0.67213115, 0.31632653, 0.5       ],\n",
       "       [0.        , 0.55769231, 0.51639344, 0.15306122, 0.5       ],\n",
       "       [1.        , 0.75      , 0.31967213, 0.51020408, 0.        ],\n",
       "       [0.        , 0.09615385, 0.02459016, 0.94897959, 1.        ],\n",
       "       [1.        , 0.        , 0.14754098, 0.92857143, 1.        ],\n",
       "       [1.        , 0.55769231, 0.45901639, 0.08163265, 0.5       ],\n",
       "       [0.        , 0.23076923, 0.1557377 , 0.73469388, 1.        ],\n",
       "       [1.        , 0.78846154, 0.31967213, 0.46938776, 0.        ],\n",
       "       [0.        , 0.21153846, 0.68032787, 0.8877551 , 0.75      ],\n",
       "       [1.        , 0.19230769, 0.50819672, 0.97959184, 0.75      ],\n",
       "       [0.        , 0.11538462, 0.19672131, 0.65306122, 1.        ],\n",
       "       [0.        , 0.23076923, 0.51639344, 0.73469388, 0.75      ],\n",
       "       [1.        , 1.        , 0.25409836, 0.56122449, 0.        ],\n",
       "       [1.        , 0.40384615, 0.44262295, 0.91836735, 0.75      ],\n",
       "       [1.        , 0.32692308, 0.63934426, 0.90816327, 0.75      ],\n",
       "       [1.        , 0.23076923, 0.68852459, 0.97959184, 0.75      ],\n",
       "       [0.        , 0.42307692, 0.44262295, 0.58163265, 0.        ],\n",
       "       [0.        , 0.59615385, 0.19672131, 0.2755102 , 0.25      ],\n",
       "       [0.        , 0.32692308, 0.04918033, 0.34693878, 0.25      ],\n",
       "       [1.        , 0.55769231, 0.2295082 , 0.40816327, 0.        ],\n",
       "       [1.        , 0.48076923, 0.51639344, 0.16326531, 0.5       ],\n",
       "       [0.        , 0.01923077, 0.39344262, 0.54081633, 0.        ],\n",
       "       [0.        , 0.53846154, 0.08196721, 0.04081633, 0.25      ],\n",
       "       [0.        , 0.34615385, 0.72131148, 0.85714286, 0.75      ],\n",
       "       [1.        , 0.38461538, 0.45901639, 0.75510204, 0.75      ],\n",
       "       [0.        , 0.25      , 0.01639344, 0.39795918, 0.25      ],\n",
       "       [0.        , 0.53846154, 0.31967213, 0.43877551, 0.        ],\n",
       "       [0.        , 0.92307692, 0.39344262, 0.5       , 0.        ],\n",
       "       [1.        , 0.03846154, 0.47540984, 0.04081633, 0.5       ],\n",
       "       [0.        , 0.48076923, 0.2704918 , 0.5       , 0.        ],\n",
       "       [0.        , 0.51923077, 0.10655738, 0.31632653, 0.25      ],\n",
       "       [1.        , 0.01923077, 0.40163934, 0.45918367, 0.        ],\n",
       "       [0.        , 0.34615385, 0.59016393, 0.26530612, 0.5       ],\n",
       "       [0.        , 0.69230769, 0.26229508, 0.59183673, 0.        ],\n",
       "       [1.        , 0.88461538, 0.03278689, 0.02040816, 0.25      ],\n",
       "       [1.        , 0.15384615, 0.31967213, 0.54081633, 0.        ],\n",
       "       [0.        , 0.63461538, 0.42622951, 0.42857143, 0.        ],\n",
       "       [0.        , 0.26923077, 0.5       , 0.87755102, 0.75      ],\n",
       "       [0.        , 0.55769231, 0.27868852, 0.41836735, 0.        ],\n",
       "       [0.        , 0.09615385, 0.45081967, 0.28571429, 0.5       ],\n",
       "       [0.        , 0.44230769, 0.68852459, 0.3877551 , 0.5       ],\n",
       "       [0.        , 0.17307692, 0.36885246, 0.5       , 0.        ],\n",
       "       [1.        , 0.30769231, 0.51639344, 0.90816327, 0.75      ],\n",
       "       [0.        , 0.69230769, 0.10655738, 0.13265306, 0.25      ],\n",
       "       [1.        , 0.80769231, 0.12295082, 0.03061224, 0.25      ],\n",
       "       [0.        , 0.73076923, 0.52459016, 0.34693878, 0.5       ],\n",
       "       [0.        , 0.90384615, 0.18852459, 0.34693878, 0.25      ],\n",
       "       [0.        , 0.63461538, 0.23770492, 0.5       , 0.        ]])"
      ]
     },
     "execution_count": 88,
     "metadata": {},
     "output_type": "execute_result"
    }
   ],
   "source": [
    "x_test"
   ]
  },
  {
   "cell_type": "code",
   "execution_count": 89,
   "metadata": {},
   "outputs": [
    {
     "data": {
      "text/plain": [
       "(60, 5)"
      ]
     },
     "execution_count": 89,
     "metadata": {},
     "output_type": "execute_result"
    }
   ],
   "source": [
    "x_test.shape"
   ]
  },
  {
   "cell_type": "code",
   "execution_count": 90,
   "metadata": {
    "scrolled": true
   },
   "outputs": [
    {
     "data": {
      "text/plain": [
       "131    3\n",
       "96     0\n",
       "181    2\n",
       "19     2\n",
       "153    2\n",
       "92     7\n",
       "54     0\n",
       "163    2\n",
       "51     4\n",
       "86     0\n",
       "139    2\n",
       "90     0\n",
       "137    3\n",
       "101    0\n",
       "144    1\n",
       "89     0\n",
       "109    7\n",
       "14     4\n",
       "27     3\n",
       "141    3\n",
       "187    3\n",
       "46     0\n",
       "138    1\n",
       "195    2\n",
       "108    7\n",
       "62     0\n",
       "2      6\n",
       "59     7\n",
       "136    5\n",
       "197    3\n",
       "      ..\n",
       "29     2\n",
       "99     4\n",
       "82     7\n",
       "79     0\n",
       "115    6\n",
       "148    5\n",
       "193    2\n",
       "72     0\n",
       "77     4\n",
       "25     3\n",
       "165    2\n",
       "81     4\n",
       "188    5\n",
       "174    5\n",
       "190    5\n",
       "39     2\n",
       "58     6\n",
       "140    5\n",
       "88     6\n",
       "70     7\n",
       "87     6\n",
       "36     0\n",
       "21     3\n",
       "9      2\n",
       "103    4\n",
       "67     0\n",
       "192    1\n",
       "117    0\n",
       "47     6\n",
       "172    1\n",
       "Name: kclus, Length: 140, dtype: int32"
      ]
     },
     "execution_count": 90,
     "metadata": {},
     "output_type": "execute_result"
    }
   ],
   "source": [
    "y_train"
   ]
  },
  {
   "cell_type": "code",
   "execution_count": 91,
   "metadata": {},
   "outputs": [
    {
     "data": {
      "text/plain": [
       "(140,)"
      ]
     },
     "execution_count": 91,
     "metadata": {},
     "output_type": "execute_result"
    }
   ],
   "source": [
    "y_train.shape"
   ]
  },
  {
   "cell_type": "code",
   "execution_count": 92,
   "metadata": {
    "scrolled": true
   },
   "outputs": [
    {
     "data": {
      "text/plain": [
       "18     7\n",
       "170    1\n",
       "107    7\n",
       "98     7\n",
       "177    3\n",
       "182    1\n",
       "5      2\n",
       "146    1\n",
       "12     0\n",
       "152    5\n",
       "61     4\n",
       "125    2\n",
       "180    5\n",
       "154    5\n",
       "80     7\n",
       "7      2\n",
       "33     3\n",
       "130    1\n",
       "37     2\n",
       "74     7\n",
       "183    2\n",
       "145    3\n",
       "45     2\n",
       "159    2\n",
       "60     7\n",
       "123    3\n",
       "179    3\n",
       "185    3\n",
       "122    6\n",
       "44     0\n",
       "16     6\n",
       "55     7\n",
       "150    1\n",
       "111    6\n",
       "22     0\n",
       "189    2\n",
       "129    3\n",
       "4      6\n",
       "83     0\n",
       "106    0\n",
       "134    1\n",
       "66     0\n",
       "26     0\n",
       "113    4\n",
       "168    5\n",
       "63     0\n",
       "8      7\n",
       "75     4\n",
       "118    0\n",
       "143    2\n",
       "71     0\n",
       "124    5\n",
       "184    5\n",
       "97     6\n",
       "149    3\n",
       "24     0\n",
       "30     7\n",
       "160    5\n",
       "40     0\n",
       "56     0\n",
       "Name: kclus, dtype: int32"
      ]
     },
     "execution_count": 92,
     "metadata": {},
     "output_type": "execute_result"
    }
   ],
   "source": [
    "y_test"
   ]
  },
  {
   "cell_type": "code",
   "execution_count": 93,
   "metadata": {},
   "outputs": [
    {
     "data": {
      "text/plain": [
       "(60,)"
      ]
     },
     "execution_count": 93,
     "metadata": {},
     "output_type": "execute_result"
    }
   ],
   "source": [
    "y_test.shape"
   ]
  },
  {
   "cell_type": "markdown",
   "metadata": {},
   "source": [
    "## 13. Build the Model "
   ]
  },
  {
   "cell_type": "code",
   "execution_count": 107,
   "metadata": {},
   "outputs": [
    {
     "data": {
      "text/plain": [
       "DecisionTreeClassifier(class_weight=None, criterion='gini', max_depth=None,\n",
       "            max_features=None, max_leaf_nodes=None,\n",
       "            min_impurity_decrease=0.0, min_impurity_split=None,\n",
       "            min_samples_leaf=1, min_samples_split=2,\n",
       "            min_weight_fraction_leaf=0.0, presort=False, random_state=None,\n",
       "            splitter='best')"
      ]
     },
     "execution_count": 107,
     "metadata": {},
     "output_type": "execute_result"
    }
   ],
   "source": [
    "from sklearn.tree import DecisionTreeClassifier\n",
    "dt = DecisionTreeClassifier()\n",
    "dt.fit(x_train,y_train)"
   ]
  },
  {
   "cell_type": "markdown",
   "metadata": {},
   "source": [
    "## 14. Train the Model "
   ]
  },
  {
   "cell_type": "code",
   "execution_count": 108,
   "metadata": {},
   "outputs": [
    {
     "data": {
      "text/plain": [
       "DecisionTreeClassifier(class_weight=None, criterion='gini', max_depth=None,\n",
       "            max_features=None, max_leaf_nodes=None,\n",
       "            min_impurity_decrease=0.0, min_impurity_split=None,\n",
       "            min_samples_leaf=1, min_samples_split=2,\n",
       "            min_weight_fraction_leaf=0.0, presort=False, random_state=None,\n",
       "            splitter='best')"
      ]
     },
     "execution_count": 108,
     "metadata": {},
     "output_type": "execute_result"
    }
   ],
   "source": [
    "from sklearn.tree import DecisionTreeClassifier\n",
    "dt = DecisionTreeClassifier()\n",
    "dt.fit(x_train,y_train)"
   ]
  },
  {
   "cell_type": "markdown",
   "metadata": {},
   "source": [
    "## 15. Test the Model "
   ]
  },
  {
   "cell_type": "code",
   "execution_count": 109,
   "metadata": {},
   "outputs": [
    {
     "data": {
      "text/plain": [
       "array([7, 1, 7, 7, 3, 1, 2, 1, 0, 5, 4, 2, 5, 5, 7, 2, 3, 1, 2, 7, 2, 3,\n",
       "       2, 2, 7, 3, 3, 3, 6, 0, 6, 7, 1, 6, 0, 2, 3, 6, 0, 0, 1, 0, 0, 4,\n",
       "       5, 0, 7, 4, 0, 2, 0, 5, 5, 6, 3, 0, 7, 5, 0, 0])"
      ]
     },
     "execution_count": 109,
     "metadata": {},
     "output_type": "execute_result"
    }
   ],
   "source": [
    "pred_test = dt.predict(x_test)\n",
    "pred_test"
   ]
  },
  {
   "cell_type": "code",
   "execution_count": 100,
   "metadata": {
    "scrolled": true
   },
   "outputs": [
    {
     "data": {
      "text/plain": [
       "18     7\n",
       "170    1\n",
       "107    7\n",
       "98     7\n",
       "177    3\n",
       "182    1\n",
       "5      2\n",
       "146    1\n",
       "12     0\n",
       "152    5\n",
       "61     4\n",
       "125    2\n",
       "180    5\n",
       "154    5\n",
       "80     7\n",
       "7      2\n",
       "33     3\n",
       "130    1\n",
       "37     2\n",
       "74     7\n",
       "183    2\n",
       "145    3\n",
       "45     2\n",
       "159    2\n",
       "60     7\n",
       "123    3\n",
       "179    3\n",
       "185    3\n",
       "122    6\n",
       "44     0\n",
       "16     6\n",
       "55     7\n",
       "150    1\n",
       "111    6\n",
       "22     0\n",
       "189    2\n",
       "129    3\n",
       "4      6\n",
       "83     0\n",
       "106    0\n",
       "134    1\n",
       "66     0\n",
       "26     0\n",
       "113    4\n",
       "168    5\n",
       "63     0\n",
       "8      7\n",
       "75     4\n",
       "118    0\n",
       "143    2\n",
       "71     0\n",
       "124    5\n",
       "184    5\n",
       "97     6\n",
       "149    3\n",
       "24     0\n",
       "30     7\n",
       "160    5\n",
       "40     0\n",
       "56     0\n",
       "Name: kclus, dtype: int32"
      ]
     },
     "execution_count": 100,
     "metadata": {},
     "output_type": "execute_result"
    }
   ],
   "source": [
    "y_test"
   ]
  },
  {
   "cell_type": "markdown",
   "metadata": {},
   "source": [
    "## 16. Measure the performance using Evaluation Metrics."
   ]
  },
  {
   "cell_type": "code",
   "execution_count": 110,
   "metadata": {},
   "outputs": [
    {
     "data": {
      "text/plain": [
       "1.0"
      ]
     },
     "execution_count": 110,
     "metadata": {},
     "output_type": "execute_result"
    }
   ],
   "source": [
    "from sklearn.metrics import accuracy_score\n",
    "accuracy_score(pred_test,y_test)"
   ]
  },
  {
   "cell_type": "code",
   "execution_count": 111,
   "metadata": {},
   "outputs": [
    {
     "data": {
      "text/plain": [
       "0    13\n",
       "7     9\n",
       "2     9\n",
       "3     8\n",
       "5     7\n",
       "1     6\n",
       "6     5\n",
       "4     3\n",
       "Name: kclus, dtype: int64"
      ]
     },
     "execution_count": 111,
     "metadata": {},
     "output_type": "execute_result"
    }
   ],
   "source": [
    "y_test.value_counts()"
   ]
  },
  {
   "cell_type": "code",
   "execution_count": 112,
   "metadata": {},
   "outputs": [
    {
     "data": {
      "text/plain": [
       "array([[13,  0,  0,  0,  0,  0,  0,  0],\n",
       "       [ 0,  6,  0,  0,  0,  0,  0,  0],\n",
       "       [ 0,  0,  9,  0,  0,  0,  0,  0],\n",
       "       [ 0,  0,  0,  8,  0,  0,  0,  0],\n",
       "       [ 0,  0,  0,  0,  3,  0,  0,  0],\n",
       "       [ 0,  0,  0,  0,  0,  7,  0,  0],\n",
       "       [ 0,  0,  0,  0,  0,  0,  5,  0],\n",
       "       [ 0,  0,  0,  0,  0,  0,  0,  9]], dtype=int64)"
      ]
     },
     "execution_count": 112,
     "metadata": {},
     "output_type": "execute_result"
    }
   ],
   "source": [
    "from sklearn.metrics import confusion_matrix\n",
    "confusion_matrix(pred_test,y_test)"
   ]
  },
  {
   "cell_type": "code",
   "execution_count": null,
   "metadata": {},
   "outputs": [],
   "source": []
  }
 ],
 "metadata": {
  "kernelspec": {
   "display_name": "Python 3",
   "language": "python",
   "name": "python3"
  },
  "language_info": {
   "codemirror_mode": {
    "name": "ipython",
    "version": 3
   },
   "file_extension": ".py",
   "mimetype": "text/x-python",
   "name": "python",
   "nbconvert_exporter": "python",
   "pygments_lexer": "ipython3",
   "version": "3.6.5"
  }
 },
 "nbformat": 4,
 "nbformat_minor": 2
}
